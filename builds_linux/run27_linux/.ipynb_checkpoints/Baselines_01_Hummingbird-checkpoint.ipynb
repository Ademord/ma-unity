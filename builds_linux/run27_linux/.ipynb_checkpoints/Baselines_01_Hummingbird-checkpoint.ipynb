{
 "cells": [
  {
   "cell_type": "markdown",
   "metadata": {},
   "source": [
    "# 0. Install Dependencies"
   ]
  },
  {
   "cell_type": "code",
   "execution_count": null,
   "metadata": {},
   "outputs": [],
   "source": [
    "# !apt-get install --y ffmpeg freeglut3-dev xvfb  # For visualization"
   ]
  },
  {
   "cell_type": "code",
   "execution_count": 1,
   "metadata": {},
   "outputs": [
    {
     "name": "stdout",
     "output_type": "stream",
     "text": [
      "Requirement already satisfied: tensorflow-gpu in /usr/local/lib/python3.8/dist-packages (2.3.1)\n",
      "Requirement already satisfied: h5py<2.11.0,>=2.10.0 in /usr/local/lib/python3.8/dist-packages (from tensorflow-gpu) (2.10.0)\n",
      "Requirement already satisfied: opt-einsum>=2.3.2 in /usr/local/lib/python3.8/dist-packages (from tensorflow-gpu) (3.3.0)\n",
      "Requirement already satisfied: grpcio>=1.8.6 in /usr/local/lib/python3.8/dist-packages (from tensorflow-gpu) (1.33.2)\n",
      "Requirement already satisfied: gast==0.3.3 in /usr/local/lib/python3.8/dist-packages (from tensorflow-gpu) (0.3.3)\n",
      "Requirement already satisfied: numpy<1.19.0,>=1.16.0 in /usr/lib/python3/dist-packages (from tensorflow-gpu) (1.17.4)\n",
      "Requirement already satisfied: astunparse==1.6.3 in /usr/local/lib/python3.8/dist-packages (from tensorflow-gpu) (1.6.3)\n",
      "Requirement already satisfied: wrapt>=1.11.1 in /usr/local/lib/python3.8/dist-packages (from tensorflow-gpu) (1.12.1)\n",
      "Requirement already satisfied: protobuf>=3.9.2 in /usr/local/lib/python3.8/dist-packages (from tensorflow-gpu) (3.13.0)\n",
      "Requirement already satisfied: tensorboard<3,>=2.3.0 in /usr/local/lib/python3.8/dist-packages (from tensorflow-gpu) (2.3.0)\n",
      "Requirement already satisfied: keras-preprocessing<1.2,>=1.1.1 in /usr/local/lib/python3.8/dist-packages (from tensorflow-gpu) (1.1.2)\n",
      "Requirement already satisfied: tensorflow-estimator<2.4.0,>=2.3.0 in /usr/local/lib/python3.8/dist-packages (from tensorflow-gpu) (2.3.0)\n",
      "Requirement already satisfied: six>=1.12.0 in /usr/local/lib/python3.8/dist-packages (from tensorflow-gpu) (1.15.0)\n",
      "Requirement already satisfied: absl-py>=0.7.0 in /usr/local/lib/python3.8/dist-packages (from tensorflow-gpu) (0.11.0)\n",
      "Requirement already satisfied: wheel>=0.26 in /usr/lib/python3/dist-packages (from tensorflow-gpu) (0.34.2)\n",
      "Requirement already satisfied: google-pasta>=0.1.8 in /usr/local/lib/python3.8/dist-packages (from tensorflow-gpu) (0.2.0)\n",
      "Requirement already satisfied: termcolor>=1.1.0 in /usr/local/lib/python3.8/dist-packages (from tensorflow-gpu) (1.1.0)\n",
      "Requirement already satisfied: setuptools in /usr/lib/python3/dist-packages (from protobuf>=3.9.2->tensorflow-gpu) (45.2.0)\n",
      "Requirement already satisfied: tensorboard-plugin-wit>=1.6.0 in /usr/local/lib/python3.8/dist-packages (from tensorboard<3,>=2.3.0->tensorflow-gpu) (1.7.0)\n",
      "Requirement already satisfied: werkzeug>=0.11.15 in /usr/local/lib/python3.8/dist-packages (from tensorboard<3,>=2.3.0->tensorflow-gpu) (1.0.1)\n",
      "Requirement already satisfied: google-auth<2,>=1.6.3 in /usr/local/lib/python3.8/dist-packages (from tensorboard<3,>=2.3.0->tensorflow-gpu) (1.22.1)\n",
      "Requirement already satisfied: markdown>=2.6.8 in /usr/local/lib/python3.8/dist-packages (from tensorboard<3,>=2.3.0->tensorflow-gpu) (3.3.3)\n",
      "Requirement already satisfied: requests<3,>=2.21.0 in /usr/local/lib/python3.8/dist-packages (from tensorboard<3,>=2.3.0->tensorflow-gpu) (2.24.0)\n",
      "Requirement already satisfied: google-auth-oauthlib<0.5,>=0.4.1 in /usr/local/lib/python3.8/dist-packages (from tensorboard<3,>=2.3.0->tensorflow-gpu) (0.4.2)\n",
      "Requirement already satisfied: rsa<5,>=3.1.4; python_version >= \"3.5\" in /usr/local/lib/python3.8/dist-packages (from google-auth<2,>=1.6.3->tensorboard<3,>=2.3.0->tensorflow-gpu) (4.6)\n",
      "Requirement already satisfied: cachetools<5.0,>=2.0.0 in /usr/local/lib/python3.8/dist-packages (from google-auth<2,>=1.6.3->tensorboard<3,>=2.3.0->tensorflow-gpu) (4.1.1)\n",
      "Requirement already satisfied: pyasn1-modules>=0.2.1 in /usr/lib/python3/dist-packages (from google-auth<2,>=1.6.3->tensorboard<3,>=2.3.0->tensorflow-gpu) (0.2.1)\n",
      "Requirement already satisfied: chardet<4,>=3.0.2 in /usr/local/lib/python3.8/dist-packages (from requests<3,>=2.21.0->tensorboard<3,>=2.3.0->tensorflow-gpu) (3.0.4)\n",
      "Requirement already satisfied: urllib3!=1.25.0,!=1.25.1,<1.26,>=1.21.1 in /usr/local/lib/python3.8/dist-packages (from requests<3,>=2.21.0->tensorboard<3,>=2.3.0->tensorflow-gpu) (1.25.11)\n",
      "Requirement already satisfied: idna<3,>=2.5 in /usr/lib/python3/dist-packages (from requests<3,>=2.21.0->tensorboard<3,>=2.3.0->tensorflow-gpu) (2.8)\n",
      "Requirement already satisfied: certifi>=2017.4.17 in /usr/local/lib/python3.8/dist-packages (from requests<3,>=2.21.0->tensorboard<3,>=2.3.0->tensorflow-gpu) (2020.6.20)\n",
      "Requirement already satisfied: requests-oauthlib>=0.7.0 in /usr/local/lib/python3.8/dist-packages (from google-auth-oauthlib<0.5,>=0.4.1->tensorboard<3,>=2.3.0->tensorflow-gpu) (1.3.0)\n",
      "Requirement already satisfied: pyasn1>=0.1.3 in /usr/lib/python3/dist-packages (from rsa<5,>=3.1.4; python_version >= \"3.5\"->google-auth<2,>=1.6.3->tensorboard<3,>=2.3.0->tensorflow-gpu) (0.4.2)\n",
      "Requirement already satisfied: oauthlib>=3.0.0 in /usr/local/lib/python3.8/dist-packages (from requests-oauthlib>=0.7.0->google-auth-oauthlib<0.5,>=0.4.1->tensorboard<3,>=2.3.0->tensorflow-gpu) (3.1.0)\n",
      "Requirement already satisfied: gym in /usr/local/lib/python3.8/dist-packages (0.18.3)\n",
      "Requirement already satisfied: cloudpickle<1.7.0,>=1.2.0 in /usr/local/lib/python3.8/dist-packages (from gym) (1.6.0)\n",
      "Requirement already satisfied: numpy>=1.10.4 in /usr/lib/python3/dist-packages (from gym) (1.17.4)\n",
      "Requirement already satisfied: scipy in /usr/local/lib/python3.8/dist-packages (from gym) (1.5.3)\n",
      "Requirement already satisfied: pyglet<=1.5.15,>=1.4.0 in /usr/local/lib/python3.8/dist-packages (from gym) (1.5.15)\n",
      "Requirement already satisfied: Pillow<=8.2.0 in /usr/local/lib/python3.8/dist-packages (from gym) (8.0.1)\n",
      "Requirement already satisfied: keras in /usr/local/lib/python3.8/dist-packages (2.4.3)\n",
      "Requirement already satisfied: numpy>=1.9.1 in /usr/lib/python3/dist-packages (from keras) (1.17.4)\n",
      "Requirement already satisfied: h5py in /usr/local/lib/python3.8/dist-packages (from keras) (2.10.0)\n",
      "Requirement already satisfied: scipy>=0.14 in /usr/local/lib/python3.8/dist-packages (from keras) (1.5.3)\n",
      "Requirement already satisfied: pyyaml in /usr/local/lib/python3.8/dist-packages (from keras) (5.1)\n",
      "Requirement already satisfied: six in /usr/local/lib/python3.8/dist-packages (from h5py->keras) (1.15.0)\n",
      "Collecting keras-rl2\n",
      "  Downloading keras_rl2-1.0.5-py3-none-any.whl (52 kB)\n",
      "\u001b[K     |████████████████████████████████| 52 kB 27 kB/s  eta 0:00:011\n",
      "\u001b[?25hRequirement already satisfied: tensorflow in /usr/local/lib/python3.8/dist-packages (from keras-rl2) (2.3.1)\n",
      "Requirement already satisfied: tensorflow-estimator<2.4.0,>=2.3.0 in /usr/local/lib/python3.8/dist-packages (from tensorflow->keras-rl2) (2.3.0)\n",
      "Requirement already satisfied: h5py<2.11.0,>=2.10.0 in /usr/local/lib/python3.8/dist-packages (from tensorflow->keras-rl2) (2.10.0)\n",
      "Requirement already satisfied: gast==0.3.3 in /usr/local/lib/python3.8/dist-packages (from tensorflow->keras-rl2) (0.3.3)\n",
      "Requirement already satisfied: grpcio>=1.8.6 in /usr/local/lib/python3.8/dist-packages (from tensorflow->keras-rl2) (1.33.2)\n",
      "Requirement already satisfied: termcolor>=1.1.0 in /usr/local/lib/python3.8/dist-packages (from tensorflow->keras-rl2) (1.1.0)\n",
      "Requirement already satisfied: astunparse==1.6.3 in /usr/local/lib/python3.8/dist-packages (from tensorflow->keras-rl2) (1.6.3)\n",
      "Requirement already satisfied: opt-einsum>=2.3.2 in /usr/local/lib/python3.8/dist-packages (from tensorflow->keras-rl2) (3.3.0)\n",
      "Requirement already satisfied: protobuf>=3.9.2 in /usr/local/lib/python3.8/dist-packages (from tensorflow->keras-rl2) (3.13.0)\n",
      "Requirement already satisfied: wrapt>=1.11.1 in /usr/local/lib/python3.8/dist-packages (from tensorflow->keras-rl2) (1.12.1)\n",
      "Requirement already satisfied: google-pasta>=0.1.8 in /usr/local/lib/python3.8/dist-packages (from tensorflow->keras-rl2) (0.2.0)\n",
      "Requirement already satisfied: wheel>=0.26 in /usr/lib/python3/dist-packages (from tensorflow->keras-rl2) (0.34.2)\n",
      "Requirement already satisfied: numpy<1.19.0,>=1.16.0 in /usr/lib/python3/dist-packages (from tensorflow->keras-rl2) (1.17.4)\n",
      "Requirement already satisfied: tensorboard<3,>=2.3.0 in /usr/local/lib/python3.8/dist-packages (from tensorflow->keras-rl2) (2.3.0)\n",
      "Requirement already satisfied: six>=1.12.0 in /usr/local/lib/python3.8/dist-packages (from tensorflow->keras-rl2) (1.15.0)\n",
      "Requirement already satisfied: absl-py>=0.7.0 in /usr/local/lib/python3.8/dist-packages (from tensorflow->keras-rl2) (0.11.0)\n",
      "Requirement already satisfied: keras-preprocessing<1.2,>=1.1.1 in /usr/local/lib/python3.8/dist-packages (from tensorflow->keras-rl2) (1.1.2)\n",
      "Requirement already satisfied: setuptools in /usr/lib/python3/dist-packages (from protobuf>=3.9.2->tensorflow->keras-rl2) (45.2.0)\n"
     ]
    },
    {
     "name": "stdout",
     "output_type": "stream",
     "text": [
      "Requirement already satisfied: google-auth-oauthlib<0.5,>=0.4.1 in /usr/local/lib/python3.8/dist-packages (from tensorboard<3,>=2.3.0->tensorflow->keras-rl2) (0.4.2)\n",
      "Requirement already satisfied: google-auth<2,>=1.6.3 in /usr/local/lib/python3.8/dist-packages (from tensorboard<3,>=2.3.0->tensorflow->keras-rl2) (1.22.1)\n",
      "Requirement already satisfied: markdown>=2.6.8 in /usr/local/lib/python3.8/dist-packages (from tensorboard<3,>=2.3.0->tensorflow->keras-rl2) (3.3.3)\n",
      "Requirement already satisfied: tensorboard-plugin-wit>=1.6.0 in /usr/local/lib/python3.8/dist-packages (from tensorboard<3,>=2.3.0->tensorflow->keras-rl2) (1.7.0)\n",
      "Requirement already satisfied: werkzeug>=0.11.15 in /usr/local/lib/python3.8/dist-packages (from tensorboard<3,>=2.3.0->tensorflow->keras-rl2) (1.0.1)\n",
      "Requirement already satisfied: requests<3,>=2.21.0 in /usr/local/lib/python3.8/dist-packages (from tensorboard<3,>=2.3.0->tensorflow->keras-rl2) (2.24.0)\n",
      "Requirement already satisfied: requests-oauthlib>=0.7.0 in /usr/local/lib/python3.8/dist-packages (from google-auth-oauthlib<0.5,>=0.4.1->tensorboard<3,>=2.3.0->tensorflow->keras-rl2) (1.3.0)\n",
      "Requirement already satisfied: rsa<5,>=3.1.4; python_version >= \"3.5\" in /usr/local/lib/python3.8/dist-packages (from google-auth<2,>=1.6.3->tensorboard<3,>=2.3.0->tensorflow->keras-rl2) (4.6)\n",
      "Requirement already satisfied: pyasn1-modules>=0.2.1 in /usr/lib/python3/dist-packages (from google-auth<2,>=1.6.3->tensorboard<3,>=2.3.0->tensorflow->keras-rl2) (0.2.1)\n",
      "Requirement already satisfied: cachetools<5.0,>=2.0.0 in /usr/local/lib/python3.8/dist-packages (from google-auth<2,>=1.6.3->tensorboard<3,>=2.3.0->tensorflow->keras-rl2) (4.1.1)\n",
      "Requirement already satisfied: idna<3,>=2.5 in /usr/lib/python3/dist-packages (from requests<3,>=2.21.0->tensorboard<3,>=2.3.0->tensorflow->keras-rl2) (2.8)\n",
      "Requirement already satisfied: chardet<4,>=3.0.2 in /usr/local/lib/python3.8/dist-packages (from requests<3,>=2.21.0->tensorboard<3,>=2.3.0->tensorflow->keras-rl2) (3.0.4)\n",
      "Requirement already satisfied: certifi>=2017.4.17 in /usr/local/lib/python3.8/dist-packages (from requests<3,>=2.21.0->tensorboard<3,>=2.3.0->tensorflow->keras-rl2) (2020.6.20)\n",
      "Requirement already satisfied: urllib3!=1.25.0,!=1.25.1,<1.26,>=1.21.1 in /usr/local/lib/python3.8/dist-packages (from requests<3,>=2.21.0->tensorboard<3,>=2.3.0->tensorflow->keras-rl2) (1.25.11)\n",
      "Requirement already satisfied: oauthlib>=3.0.0 in /usr/local/lib/python3.8/dist-packages (from requests-oauthlib>=0.7.0->google-auth-oauthlib<0.5,>=0.4.1->tensorboard<3,>=2.3.0->tensorflow->keras-rl2) (3.1.0)\n",
      "Requirement already satisfied: pyasn1>=0.1.3 in /usr/lib/python3/dist-packages (from rsa<5,>=3.1.4; python_version >= \"3.5\"->google-auth<2,>=1.6.3->tensorboard<3,>=2.3.0->tensorflow->keras-rl2) (0.4.2)\n",
      "Installing collected packages: keras-rl2\n",
      "Successfully installed keras-rl2-1.0.5\n",
      "Requirement already satisfied: gym_unity in /usr/local/lib/python3.8/dist-packages (0.26.0)\n",
      "Requirement already satisfied: gym in /usr/local/lib/python3.8/dist-packages (from gym_unity) (0.18.3)\n",
      "Requirement already satisfied: mlagents-envs==0.26.0 in /usr/local/lib/python3.8/dist-packages (from gym_unity) (0.26.0)\n",
      "Requirement already satisfied: numpy>=1.10.4 in /usr/lib/python3/dist-packages (from gym->gym_unity) (1.17.4)\n",
      "Requirement already satisfied: cloudpickle<1.7.0,>=1.2.0 in /usr/local/lib/python3.8/dist-packages (from gym->gym_unity) (1.6.0)\n",
      "Requirement already satisfied: Pillow<=8.2.0 in /usr/local/lib/python3.8/dist-packages (from gym->gym_unity) (8.0.1)\n",
      "Requirement already satisfied: pyglet<=1.5.15,>=1.4.0 in /usr/local/lib/python3.8/dist-packages (from gym->gym_unity) (1.5.15)\n",
      "Requirement already satisfied: scipy in /usr/local/lib/python3.8/dist-packages (from gym->gym_unity) (1.5.3)\n",
      "Requirement already satisfied: protobuf>=3.6 in /usr/local/lib/python3.8/dist-packages (from mlagents-envs==0.26.0->gym_unity) (3.13.0)\n",
      "Requirement already satisfied: grpcio>=1.11.0 in /usr/local/lib/python3.8/dist-packages (from mlagents-envs==0.26.0->gym_unity) (1.33.2)\n",
      "Requirement already satisfied: pyyaml>=3.1.0 in /usr/local/lib/python3.8/dist-packages (from mlagents-envs==0.26.0->gym_unity) (5.1)\n",
      "Requirement already satisfied: setuptools in /usr/lib/python3/dist-packages (from protobuf>=3.6->mlagents-envs==0.26.0->gym_unity) (45.2.0)\n",
      "Requirement already satisfied: six>=1.9 in /usr/local/lib/python3.8/dist-packages (from protobuf>=3.6->mlagents-envs==0.26.0->gym_unity) (1.15.0)\n",
      "Requirement already satisfied: stable-baselines3[extra] in /usr/local/lib/python3.8/dist-packages (1.0)\n",
      "Requirement already satisfied: gym>=0.17 in /usr/local/lib/python3.8/dist-packages (from stable-baselines3[extra]) (0.18.3)\n",
      "Requirement already satisfied: matplotlib in /usr/local/lib/python3.8/dist-packages (from stable-baselines3[extra]) (3.3.2)\n",
      "Requirement already satisfied: numpy in /usr/lib/python3/dist-packages (from stable-baselines3[extra]) (1.17.4)\n",
      "Requirement already satisfied: torch>=1.4.0 in /usr/local/lib/python3.8/dist-packages (from stable-baselines3[extra]) (1.5.0+cu101)\n",
      "Requirement already satisfied: pandas in /usr/local/lib/python3.8/dist-packages (from stable-baselines3[extra]) (1.1.3)\n",
      "Requirement already satisfied: cloudpickle in /usr/local/lib/python3.8/dist-packages (from stable-baselines3[extra]) (1.6.0)\n",
      "Requirement already satisfied: pillow; extra == \"extra\" in /usr/local/lib/python3.8/dist-packages (from stable-baselines3[extra]) (8.0.1)\n",
      "Requirement already satisfied: atari-py~=0.2.0; extra == \"extra\" in /usr/local/lib/python3.8/dist-packages (from stable-baselines3[extra]) (0.2.9)\n",
      "Requirement already satisfied: opencv-python; extra == \"extra\" in /usr/local/lib/python3.8/dist-packages (from stable-baselines3[extra]) (4.4.0.44)\n",
      "Requirement already satisfied: psutil; extra == \"extra\" in /usr/local/lib/python3.8/dist-packages (from stable-baselines3[extra]) (5.8.0)\n",
      "Requirement already satisfied: tensorboard>=2.2.0; extra == \"extra\" in /usr/local/lib/python3.8/dist-packages (from stable-baselines3[extra]) (2.3.0)\n",
      "Requirement already satisfied: scipy in /usr/local/lib/python3.8/dist-packages (from gym>=0.17->stable-baselines3[extra]) (1.5.3)\n",
      "Requirement already satisfied: pyglet<=1.5.15,>=1.4.0 in /usr/local/lib/python3.8/dist-packages (from gym>=0.17->stable-baselines3[extra]) (1.5.15)\n",
      "Requirement already satisfied: kiwisolver>=1.0.1 in /usr/local/lib/python3.8/dist-packages (from matplotlib->stable-baselines3[extra]) (1.3.0)\n",
      "Requirement already satisfied: certifi>=2020.06.20 in /usr/local/lib/python3.8/dist-packages (from matplotlib->stable-baselines3[extra]) (2020.6.20)\n",
      "Requirement already satisfied: python-dateutil>=2.1 in /usr/local/lib/python3.8/dist-packages (from matplotlib->stable-baselines3[extra]) (2.8.1)\n",
      "Requirement already satisfied: cycler>=0.10 in /usr/local/lib/python3.8/dist-packages (from matplotlib->stable-baselines3[extra]) (0.10.0)\n",
      "Requirement already satisfied: pyparsing!=2.0.4,!=2.1.2,!=2.1.6,>=2.0.3 in /usr/local/lib/python3.8/dist-packages (from matplotlib->stable-baselines3[extra]) (2.4.7)\n",
      "Requirement already satisfied: future in /usr/local/lib/python3.8/dist-packages (from torch>=1.4.0->stable-baselines3[extra]) (0.18.2)\n",
      "Requirement already satisfied: pytz>=2017.2 in /usr/local/lib/python3.8/dist-packages (from pandas->stable-baselines3[extra]) (2020.1)\n",
      "Requirement already satisfied: six in /usr/local/lib/python3.8/dist-packages (from atari-py~=0.2.0; extra == \"extra\"->stable-baselines3[extra]) (1.15.0)\n",
      "Requirement already satisfied: google-auth<2,>=1.6.3 in /usr/local/lib/python3.8/dist-packages (from tensorboard>=2.2.0; extra == \"extra\"->stable-baselines3[extra]) (1.22.1)\n",
      "Requirement already satisfied: grpcio>=1.24.3 in /usr/local/lib/python3.8/dist-packages (from tensorboard>=2.2.0; extra == \"extra\"->stable-baselines3[extra]) (1.33.2)\n",
      "Requirement already satisfied: absl-py>=0.4 in /usr/local/lib/python3.8/dist-packages (from tensorboard>=2.2.0; extra == \"extra\"->stable-baselines3[extra]) (0.11.0)\n",
      "Requirement already satisfied: wheel>=0.26; python_version >= \"3\" in /usr/lib/python3/dist-packages (from tensorboard>=2.2.0; extra == \"extra\"->stable-baselines3[extra]) (0.34.2)\n",
      "Requirement already satisfied: protobuf>=3.6.0 in /usr/local/lib/python3.8/dist-packages (from tensorboard>=2.2.0; extra == \"extra\"->stable-baselines3[extra]) (3.13.0)\n",
      "Requirement already satisfied: werkzeug>=0.11.15 in /usr/local/lib/python3.8/dist-packages (from tensorboard>=2.2.0; extra == \"extra\"->stable-baselines3[extra]) (1.0.1)\n"
     ]
    },
    {
     "name": "stdout",
     "output_type": "stream",
     "text": [
      "Requirement already satisfied: markdown>=2.6.8 in /usr/local/lib/python3.8/dist-packages (from tensorboard>=2.2.0; extra == \"extra\"->stable-baselines3[extra]) (3.3.3)\r\n",
      "Requirement already satisfied: requests<3,>=2.21.0 in /usr/local/lib/python3.8/dist-packages (from tensorboard>=2.2.0; extra == \"extra\"->stable-baselines3[extra]) (2.24.0)\r\n",
      "Requirement already satisfied: setuptools>=41.0.0 in /usr/lib/python3/dist-packages (from tensorboard>=2.2.0; extra == \"extra\"->stable-baselines3[extra]) (45.2.0)\r\n",
      "Requirement already satisfied: google-auth-oauthlib<0.5,>=0.4.1 in /usr/local/lib/python3.8/dist-packages (from tensorboard>=2.2.0; extra == \"extra\"->stable-baselines3[extra]) (0.4.2)\r\n",
      "Requirement already satisfied: tensorboard-plugin-wit>=1.6.0 in /usr/local/lib/python3.8/dist-packages (from tensorboard>=2.2.0; extra == \"extra\"->stable-baselines3[extra]) (1.7.0)\r\n",
      "Requirement already satisfied: rsa<5,>=3.1.4; python_version >= \"3.5\" in /usr/local/lib/python3.8/dist-packages (from google-auth<2,>=1.6.3->tensorboard>=2.2.0; extra == \"extra\"->stable-baselines3[extra]) (4.6)\r\n",
      "Requirement already satisfied: pyasn1-modules>=0.2.1 in /usr/lib/python3/dist-packages (from google-auth<2,>=1.6.3->tensorboard>=2.2.0; extra == \"extra\"->stable-baselines3[extra]) (0.2.1)\r\n",
      "Requirement already satisfied: cachetools<5.0,>=2.0.0 in /usr/local/lib/python3.8/dist-packages (from google-auth<2,>=1.6.3->tensorboard>=2.2.0; extra == \"extra\"->stable-baselines3[extra]) (4.1.1)\r\n",
      "Requirement already satisfied: chardet<4,>=3.0.2 in /usr/local/lib/python3.8/dist-packages (from requests<3,>=2.21.0->tensorboard>=2.2.0; extra == \"extra\"->stable-baselines3[extra]) (3.0.4)\r\n",
      "Requirement already satisfied: urllib3!=1.25.0,!=1.25.1,<1.26,>=1.21.1 in /usr/local/lib/python3.8/dist-packages (from requests<3,>=2.21.0->tensorboard>=2.2.0; extra == \"extra\"->stable-baselines3[extra]) (1.25.11)\r\n",
      "Requirement already satisfied: idna<3,>=2.5 in /usr/lib/python3/dist-packages (from requests<3,>=2.21.0->tensorboard>=2.2.0; extra == \"extra\"->stable-baselines3[extra]) (2.8)\r\n",
      "Requirement already satisfied: requests-oauthlib>=0.7.0 in /usr/local/lib/python3.8/dist-packages (from google-auth-oauthlib<0.5,>=0.4.1->tensorboard>=2.2.0; extra == \"extra\"->stable-baselines3[extra]) (1.3.0)\r\n",
      "Requirement already satisfied: pyasn1>=0.1.3 in /usr/lib/python3/dist-packages (from rsa<5,>=3.1.4; python_version >= \"3.5\"->google-auth<2,>=1.6.3->tensorboard>=2.2.0; extra == \"extra\"->stable-baselines3[extra]) (0.4.2)\r\n",
      "Requirement already satisfied: oauthlib>=3.0.0 in /usr/local/lib/python3.8/dist-packages (from requests-oauthlib>=0.7.0->google-auth-oauthlib<0.5,>=0.4.1->tensorboard>=2.2.0; extra == \"extra\"->stable-baselines3[extra]) (3.1.0)\r\n"
     ]
    }
   ],
   "source": [
    "!pip install tensorflow-gpu\n",
    "!pip install gym\n",
    "!pip install keras\n",
    "!pip install keras-rl2\n",
    "!pip3 install gym_unity\n",
    "# !pip install --force-reinstall git+git://github.com/openai/baselines@tf\n",
    "!pip install stable-baselines3[extra]"
   ]
  },
  {
   "cell_type": "markdown",
   "metadata": {},
   "source": [
    "# 1. Test Random Environment with OpenAI Gym"
   ]
  },
  {
   "cell_type": "code",
   "execution_count": 1,
   "metadata": {},
   "outputs": [],
   "source": [
    "import gym\n",
    "import numpy as np\n",
    "from stable_baselines3 import PPO\n",
    "from stable_baselines3.ppo.policies import MlpPolicy\n",
    "\n",
    "from mlagents_envs.environment import UnityEnvironment\n",
    "from gym_unity.envs import UnityToGymWrapper\n",
    "from stable_baselines3.common.vec_env.subproc_vec_env import SubprocVecEnv\n",
    "from stable_baselines3.common.vec_env.dummy_vec_env import DummyVecEnv\n",
    "from stable_baselines3.common.monitor import Monitor\n",
    "# from baselines import logger\n",
    "# import baselines.ppo2.ppo2 as ppo2\n",
    "\n",
    "import os"
   ]
  },
  {
   "cell_type": "code",
   "execution_count": 6,
   "metadata": {},
   "outputs": [],
   "source": [
    "try:\n",
    "    from mpi4py import MPI\n",
    "except ImportError:\n",
    "    MPI = None\n",
    "\n",
    "def make_unity_env(env_directory, num_env, visual, start_index=0):\n",
    "    \"\"\"\n",
    "    Create a wrapped, monitored Unity environment.\n",
    "    \"\"\"\n",
    "    def make_env(rank, use_visual=True): # pylint: disable=C0111\n",
    "        def _thunk():\n",
    "            unity_env = UnityEnvironment(env_directory, base_port=5000 + rank)\n",
    "            env = UnityToGymWrapper(unity_env, uint8_visual=True, flatten_branched=True, allow_multiple_obs=True)\n",
    "            env = Monitor(env)\n",
    "            return env\n",
    "        return _thunk\n",
    "    if visual:\n",
    "        return SubprocVecEnv([make_env(i + start_index) for i in range(num_env)])\n",
    "    else:\n",
    "        rank = MPI.COMM_WORLD.Get_rank() if MPI else 0\n",
    "        return DummyVecEnv([make_env(rank, use_visual=False)])"
   ]
  },
  {
   "cell_type": "code",
   "execution_count": 7,
   "metadata": {},
   "outputs": [
    {
     "name": "stdout",
     "output_type": "stream",
     "text": [
      "[INFO] Connected to Unity environment with package version 2.0.0-exp.1 and communication version 1.5.0\n",
      "[INFO] Connected new brain: Hummingbird?team=0\n",
      "[WARNING] uint8_visual was set to true, but visual observations are not in use. This setting will not have any effect.\n"
     ]
    },
    {
     "ename": "NotImplementedError",
     "evalue": "Tuple(Box(-inf, inf, (91,), float32)) observation space is not supported",
     "output_type": "error",
     "traceback": [
      "\u001b[0;31m---------------------------------------------------------------------------\u001b[0m",
      "\u001b[0;31mNotImplementedError\u001b[0m                       Traceback (most recent call last)",
      "\u001b[0;32m<ipython-input-7-c25f51e6e3c0>\u001b[0m in \u001b[0;36m<module>\u001b[0;34m\u001b[0m\n\u001b[1;32m      3\u001b[0m \u001b[0;31m# env = gym.make('CartPole-v1')\u001b[0m\u001b[0;34m\u001b[0m\u001b[0;34m\u001b[0m\u001b[0;34m\u001b[0m\u001b[0m\n\u001b[1;32m      4\u001b[0m \u001b[0;34m\u001b[0m\u001b[0m\n\u001b[0;32m----> 5\u001b[0;31m \u001b[0mmodel\u001b[0m \u001b[0;34m=\u001b[0m \u001b[0mPPO\u001b[0m\u001b[0;34m(\u001b[0m\u001b[0mMlpPolicy\u001b[0m\u001b[0;34m,\u001b[0m \u001b[0menv\u001b[0m\u001b[0;34m,\u001b[0m \u001b[0mverbose\u001b[0m\u001b[0;34m=\u001b[0m\u001b[0;36m0\u001b[0m\u001b[0;34m)\u001b[0m\u001b[0;34m\u001b[0m\u001b[0;34m\u001b[0m\u001b[0m\n\u001b[0m",
      "\u001b[0;32m/usr/local/lib/python3.8/dist-packages/stable_baselines3/ppo/ppo.py\u001b[0m in \u001b[0;36m__init__\u001b[0;34m(self, policy, env, learning_rate, n_steps, batch_size, n_epochs, gamma, gae_lambda, clip_range, clip_range_vf, ent_coef, vf_coef, max_grad_norm, use_sde, sde_sample_freq, target_kl, tensorboard_log, create_eval_env, policy_kwargs, verbose, seed, device, _init_setup_model)\u001b[0m\n\u001b[1;32m    144\u001b[0m \u001b[0;34m\u001b[0m\u001b[0m\n\u001b[1;32m    145\u001b[0m         \u001b[0;32mif\u001b[0m \u001b[0m_init_setup_model\u001b[0m\u001b[0;34m:\u001b[0m\u001b[0;34m\u001b[0m\u001b[0;34m\u001b[0m\u001b[0m\n\u001b[0;32m--> 146\u001b[0;31m             \u001b[0mself\u001b[0m\u001b[0;34m.\u001b[0m\u001b[0m_setup_model\u001b[0m\u001b[0;34m(\u001b[0m\u001b[0;34m)\u001b[0m\u001b[0;34m\u001b[0m\u001b[0;34m\u001b[0m\u001b[0m\n\u001b[0m\u001b[1;32m    147\u001b[0m \u001b[0;34m\u001b[0m\u001b[0m\n\u001b[1;32m    148\u001b[0m     \u001b[0;32mdef\u001b[0m \u001b[0m_setup_model\u001b[0m\u001b[0;34m(\u001b[0m\u001b[0mself\u001b[0m\u001b[0;34m)\u001b[0m \u001b[0;34m->\u001b[0m \u001b[0;32mNone\u001b[0m\u001b[0;34m:\u001b[0m\u001b[0;34m\u001b[0m\u001b[0;34m\u001b[0m\u001b[0m\n",
      "\u001b[0;32m/usr/local/lib/python3.8/dist-packages/stable_baselines3/ppo/ppo.py\u001b[0m in \u001b[0;36m_setup_model\u001b[0;34m(self)\u001b[0m\n\u001b[1;32m    147\u001b[0m \u001b[0;34m\u001b[0m\u001b[0m\n\u001b[1;32m    148\u001b[0m     \u001b[0;32mdef\u001b[0m \u001b[0m_setup_model\u001b[0m\u001b[0;34m(\u001b[0m\u001b[0mself\u001b[0m\u001b[0;34m)\u001b[0m \u001b[0;34m->\u001b[0m \u001b[0;32mNone\u001b[0m\u001b[0;34m:\u001b[0m\u001b[0;34m\u001b[0m\u001b[0;34m\u001b[0m\u001b[0m\n\u001b[0;32m--> 149\u001b[0;31m         \u001b[0msuper\u001b[0m\u001b[0;34m(\u001b[0m\u001b[0mPPO\u001b[0m\u001b[0;34m,\u001b[0m \u001b[0mself\u001b[0m\u001b[0;34m)\u001b[0m\u001b[0;34m.\u001b[0m\u001b[0m_setup_model\u001b[0m\u001b[0;34m(\u001b[0m\u001b[0;34m)\u001b[0m\u001b[0;34m\u001b[0m\u001b[0;34m\u001b[0m\u001b[0m\n\u001b[0m\u001b[1;32m    150\u001b[0m \u001b[0;34m\u001b[0m\u001b[0m\n\u001b[1;32m    151\u001b[0m         \u001b[0;31m# Initialize schedules for policy/value clipping\u001b[0m\u001b[0;34m\u001b[0m\u001b[0;34m\u001b[0m\u001b[0;34m\u001b[0m\u001b[0m\n",
      "\u001b[0;32m/usr/local/lib/python3.8/dist-packages/stable_baselines3/common/on_policy_algorithm.py\u001b[0m in \u001b[0;36m_setup_model\u001b[0;34m(self)\u001b[0m\n\u001b[1;32m    106\u001b[0m         \u001b[0mself\u001b[0m\u001b[0;34m.\u001b[0m\u001b[0mset_random_seed\u001b[0m\u001b[0;34m(\u001b[0m\u001b[0mself\u001b[0m\u001b[0;34m.\u001b[0m\u001b[0mseed\u001b[0m\u001b[0;34m)\u001b[0m\u001b[0;34m\u001b[0m\u001b[0;34m\u001b[0m\u001b[0m\n\u001b[1;32m    107\u001b[0m \u001b[0;34m\u001b[0m\u001b[0m\n\u001b[0;32m--> 108\u001b[0;31m         self.rollout_buffer = RolloutBuffer(\n\u001b[0m\u001b[1;32m    109\u001b[0m             \u001b[0mself\u001b[0m\u001b[0;34m.\u001b[0m\u001b[0mn_steps\u001b[0m\u001b[0;34m,\u001b[0m\u001b[0;34m\u001b[0m\u001b[0;34m\u001b[0m\u001b[0m\n\u001b[1;32m    110\u001b[0m             \u001b[0mself\u001b[0m\u001b[0;34m.\u001b[0m\u001b[0mobservation_space\u001b[0m\u001b[0;34m,\u001b[0m\u001b[0;34m\u001b[0m\u001b[0;34m\u001b[0m\u001b[0m\n",
      "\u001b[0;32m/usr/local/lib/python3.8/dist-packages/stable_baselines3/common/buffers.py\u001b[0m in \u001b[0;36m__init__\u001b[0;34m(self, buffer_size, observation_space, action_space, device, gae_lambda, gamma, n_envs)\u001b[0m\n\u001b[1;32m    291\u001b[0m     ):\n\u001b[1;32m    292\u001b[0m \u001b[0;34m\u001b[0m\u001b[0m\n\u001b[0;32m--> 293\u001b[0;31m         \u001b[0msuper\u001b[0m\u001b[0;34m(\u001b[0m\u001b[0mRolloutBuffer\u001b[0m\u001b[0;34m,\u001b[0m \u001b[0mself\u001b[0m\u001b[0;34m)\u001b[0m\u001b[0;34m.\u001b[0m\u001b[0m__init__\u001b[0m\u001b[0;34m(\u001b[0m\u001b[0mbuffer_size\u001b[0m\u001b[0;34m,\u001b[0m \u001b[0mobservation_space\u001b[0m\u001b[0;34m,\u001b[0m \u001b[0maction_space\u001b[0m\u001b[0;34m,\u001b[0m \u001b[0mdevice\u001b[0m\u001b[0;34m,\u001b[0m \u001b[0mn_envs\u001b[0m\u001b[0;34m=\u001b[0m\u001b[0mn_envs\u001b[0m\u001b[0;34m)\u001b[0m\u001b[0;34m\u001b[0m\u001b[0;34m\u001b[0m\u001b[0m\n\u001b[0m\u001b[1;32m    294\u001b[0m         \u001b[0mself\u001b[0m\u001b[0;34m.\u001b[0m\u001b[0mgae_lambda\u001b[0m \u001b[0;34m=\u001b[0m \u001b[0mgae_lambda\u001b[0m\u001b[0;34m\u001b[0m\u001b[0;34m\u001b[0m\u001b[0m\n\u001b[1;32m    295\u001b[0m         \u001b[0mself\u001b[0m\u001b[0;34m.\u001b[0m\u001b[0mgamma\u001b[0m \u001b[0;34m=\u001b[0m \u001b[0mgamma\u001b[0m\u001b[0;34m\u001b[0m\u001b[0;34m\u001b[0m\u001b[0m\n",
      "\u001b[0;32m/usr/local/lib/python3.8/dist-packages/stable_baselines3/common/buffers.py\u001b[0m in \u001b[0;36m__init__\u001b[0;34m(self, buffer_size, observation_space, action_space, device, n_envs)\u001b[0m\n\u001b[1;32m     42\u001b[0m         \u001b[0mself\u001b[0m\u001b[0;34m.\u001b[0m\u001b[0mobservation_space\u001b[0m \u001b[0;34m=\u001b[0m \u001b[0mobservation_space\u001b[0m\u001b[0;34m\u001b[0m\u001b[0;34m\u001b[0m\u001b[0m\n\u001b[1;32m     43\u001b[0m         \u001b[0mself\u001b[0m\u001b[0;34m.\u001b[0m\u001b[0maction_space\u001b[0m \u001b[0;34m=\u001b[0m \u001b[0maction_space\u001b[0m\u001b[0;34m\u001b[0m\u001b[0;34m\u001b[0m\u001b[0m\n\u001b[0;32m---> 44\u001b[0;31m         \u001b[0mself\u001b[0m\u001b[0;34m.\u001b[0m\u001b[0mobs_shape\u001b[0m \u001b[0;34m=\u001b[0m \u001b[0mget_obs_shape\u001b[0m\u001b[0;34m(\u001b[0m\u001b[0mobservation_space\u001b[0m\u001b[0;34m)\u001b[0m\u001b[0;34m\u001b[0m\u001b[0;34m\u001b[0m\u001b[0m\n\u001b[0m\u001b[1;32m     45\u001b[0m         \u001b[0mself\u001b[0m\u001b[0;34m.\u001b[0m\u001b[0maction_dim\u001b[0m \u001b[0;34m=\u001b[0m \u001b[0mget_action_dim\u001b[0m\u001b[0;34m(\u001b[0m\u001b[0maction_space\u001b[0m\u001b[0;34m)\u001b[0m\u001b[0;34m\u001b[0m\u001b[0;34m\u001b[0m\u001b[0m\n\u001b[1;32m     46\u001b[0m         \u001b[0mself\u001b[0m\u001b[0;34m.\u001b[0m\u001b[0mpos\u001b[0m \u001b[0;34m=\u001b[0m \u001b[0;36m0\u001b[0m\u001b[0;34m\u001b[0m\u001b[0;34m\u001b[0m\u001b[0m\n",
      "\u001b[0;32m/usr/local/lib/python3.8/dist-packages/stable_baselines3/common/preprocessing.py\u001b[0m in \u001b[0;36mget_obs_shape\u001b[0;34m(observation_space)\u001b[0m\n\u001b[1;32m    139\u001b[0m         \u001b[0;32mreturn\u001b[0m \u001b[0;34m(\u001b[0m\u001b[0mint\u001b[0m\u001b[0;34m(\u001b[0m\u001b[0mobservation_space\u001b[0m\u001b[0;34m.\u001b[0m\u001b[0mn\u001b[0m\u001b[0;34m)\u001b[0m\u001b[0;34m,\u001b[0m\u001b[0;34m)\u001b[0m\u001b[0;34m\u001b[0m\u001b[0;34m\u001b[0m\u001b[0m\n\u001b[1;32m    140\u001b[0m     \u001b[0;32melse\u001b[0m\u001b[0;34m:\u001b[0m\u001b[0;34m\u001b[0m\u001b[0;34m\u001b[0m\u001b[0m\n\u001b[0;32m--> 141\u001b[0;31m         \u001b[0;32mraise\u001b[0m \u001b[0mNotImplementedError\u001b[0m\u001b[0;34m(\u001b[0m\u001b[0;34mf\"{observation_space} observation space is not supported\"\u001b[0m\u001b[0;34m)\u001b[0m\u001b[0;34m\u001b[0m\u001b[0;34m\u001b[0m\u001b[0m\n\u001b[0m\u001b[1;32m    142\u001b[0m \u001b[0;34m\u001b[0m\u001b[0m\n\u001b[1;32m    143\u001b[0m \u001b[0;34m\u001b[0m\u001b[0m\n",
      "\u001b[0;31mNotImplementedError\u001b[0m: Tuple(Box(-inf, inf, (91,), float32)) observation space is not supported"
     ]
    }
   ],
   "source": [
    "env.close()\n",
    "env = make_unity_env(\"run27_linux\", 4, False)\n",
    "# env = gym.make('CartPole-v1')\n",
    "\n",
    "model = PPO(MlpPolicy, env, verbose=0)"
   ]
  },
  {
   "cell_type": "code",
   "execution_count": 8,
   "metadata": {},
   "outputs": [],
   "source": [
    "def evaluate(model, num_episodes=100):\n",
    "    \"\"\"\n",
    "    Evaluate a RL agent\n",
    "    :param model: (BaseRLModel object) the RL Agent\n",
    "    :param num_episodes: (int) number of episodes to evaluate it\n",
    "    :return: (float) Mean reward for the last num_episodes\n",
    "    \"\"\"\n",
    "    # This function will only work for a single Environment\n",
    "    env = model.get_env()\n",
    "    env.reset()\n",
    "    all_episode_rewards = []\n",
    "    for i in range(num_episodes):\n",
    "        episode_rewards = []\n",
    "        done = False\n",
    "        obs = env.reset()\n",
    "        while not done:\n",
    "            env.render()\n",
    "            # _states are only useful when using LSTM policies\n",
    "            action, _states = model.predict(obs)\n",
    "            # here, action, rewards and dones are arrays\n",
    "            # because we are using vectorized env\n",
    "            obs, reward, done, info = env.step(action)\n",
    "            episode_rewards.append(reward)\n",
    "\n",
    "        all_episode_rewards.append(sum(episode_rewards))\n",
    "    \n",
    "    env.close()\n",
    "    mean_episode_reward = np.mean(all_episode_rewards)\n",
    "    print(\"Mean reward:\", mean_episode_reward, \"Num episodes:\", num_episodes)\n",
    "\n",
    "    return mean_episode_reward"
   ]
  },
  {
   "cell_type": "code",
   "execution_count": 9,
   "metadata": {},
   "outputs": [
    {
     "name": "stdout",
     "output_type": "stream",
     "text": [
      "Mean reward: 155.0531 Num episodes: 100\n"
     ]
    }
   ],
   "source": [
    "# Random Agent, before training\n",
    "mean_reward_before_train = evaluate(model, num_episodes=100)"
   ]
  },
  {
   "cell_type": "code",
   "execution_count": null,
   "metadata": {},
   "outputs": [],
   "source": []
  },
  {
   "cell_type": "code",
   "execution_count": 7,
   "metadata": {},
   "outputs": [
    {
     "name": "stderr",
     "output_type": "stream",
     "text": [
      "/usr/local/lib/python3.8/dist-packages/stable_baselines3/common/evaluation.py:65: UserWarning: Evaluation environment is not wrapped with a ``Monitor`` wrapper. This may result in reporting modified episode lengths and rewards, if other wrappers happen to modify these. Consider wrapping environment first with ``Monitor`` wrapper.\n",
      "  warnings.warn(\n"
     ]
    },
    {
     "name": "stdout",
     "output_type": "stream",
     "text": [
      "mean_reward:500.00 +/- 0.00\n"
     ]
    }
   ],
   "source": [
    "from stable_baselines3.common.evaluation import evaluate_policy\n",
    "mean_reward, std_reward = evaluate_policy(model, env, n_eval_episodes=100)\n",
    "\n",
    "print(f\"mean_reward:{mean_reward:.2f} +/- {std_reward:.2f}\")"
   ]
  },
  {
   "cell_type": "code",
   "execution_count": 8,
   "metadata": {},
   "outputs": [
    {
     "data": {
      "text/plain": [
       "<stable_baselines3.ppo.ppo.PPO at 0x7f500038f400>"
      ]
     },
     "execution_count": 8,
     "metadata": {},
     "output_type": "execute_result"
    }
   ],
   "source": [
    "# Train the agent for 10000 steps\n",
    "model.learn(total_timesteps=10000)"
   ]
  },
  {
   "cell_type": "code",
   "execution_count": 9,
   "metadata": {},
   "outputs": [
    {
     "name": "stdout",
     "output_type": "stream",
     "text": [
      "mean_reward:303.92 +/- 125.52\n"
     ]
    }
   ],
   "source": [
    "# Evaluate the trained agent\n",
    "mean_reward, std_reward = evaluate_policy(model, env, n_eval_episodes=100)\n",
    "\n",
    "print(f\"mean_reward:{mean_reward:.2f} +/- {std_reward:.2f}\")"
   ]
  },
  {
   "cell_type": "code",
   "execution_count": 18,
   "metadata": {},
   "outputs": [],
   "source": [
    "# # Set up fake display; otherwise rendering will fail\n",
    "# import os\n",
    "# os.system(\"Xvfb :1 -screen 0 1024x768x24 &\")\n",
    "# os.environ['DISPLAY'] = ':0'"
   ]
  },
  {
   "cell_type": "code",
   "execution_count": 10,
   "metadata": {},
   "outputs": [],
   "source": [
    "import base64\n",
    "from pathlib import Path\n",
    "\n",
    "from IPython import display as ipythondisplay\n",
    "\n",
    "def show_videos(video_path='', prefix=''):\n",
    "    \"\"\"\n",
    "    Taken from https://github.com/eleurent/highway-env\n",
    "\n",
    "    :param video_path: (str) Path to the folder containing videos\n",
    "    :param prefix: (str) Filter the video, showing only the only starting with this prefix\n",
    "    \"\"\"\n",
    "    html = []\n",
    "    for mp4 in Path(video_path).glob(\"{}*.mp4\".format(prefix)):\n",
    "        video_b64 = base64.b64encode(mp4.read_bytes())\n",
    "        html.append('''<video alt=\"{}\" autoplay \n",
    "                    loop controls style=\"height: 400px;\">\n",
    "                    <source src=\"data:video/mp4;base64,{}\" type=\"video/mp4\" />\n",
    "                </video>'''.format(mp4, video_b64.decode('ascii')))\n",
    "    ipythondisplay.display(ipythondisplay.HTML(data=\"<br>\".join(html)))"
   ]
  },
  {
   "cell_type": "code",
   "execution_count": 11,
   "metadata": {},
   "outputs": [],
   "source": [
    "from stable_baselines3.common.vec_env import VecVideoRecorder, DummyVecEnv\n",
    "\n",
    "def record_video(env_id, model, video_length=500, prefix='', video_folder='videos/'):\n",
    "    \"\"\"\n",
    "    :param env_id: (str)\n",
    "    :param model: (RL model)\n",
    "    :param video_length: (int)\n",
    "    :param prefix: (str)\n",
    "    :param videos/o_folder: (str)\n",
    "    \"\"\"\n",
    "    eval_env = DummyVecEnv([lambda: gym.make(env_id)])\n",
    "    # Start the video at step=0 and record 500 steps\n",
    "    eval_env = VecVideoRecorder(eval_env, video_folder=video_folder,\n",
    "                                  record_video_trigger=lambda step: step == 0, video_length=video_length,\n",
    "                                  name_prefix=prefix)\n",
    "\n",
    "    obs = eval_env.reset()\n",
    "    for _ in range(video_length):\n",
    "        action, _ = model.predict(obs)\n",
    "        obs, _, _, _ = eval_env.step(action)\n",
    "\n",
    "    # Close the video recorder\n",
    "    eval_env.close()"
   ]
  },
  {
   "cell_type": "code",
   "execution_count": 12,
   "metadata": {},
   "outputs": [
    {
     "name": "stdout",
     "output_type": "stream",
     "text": [
      "Saving video to  /host/unity_builds/run27_linux/videos/ppo2-cartpole-step-0-to-step-500.mp4\n"
     ]
    }
   ],
   "source": [
    "record_video('CartPole-v1', model, video_length=500, prefix='ppo2-cartpole')"
   ]
  },
  {
   "cell_type": "code",
   "execution_count": 13,
   "metadata": {},
   "outputs": [
    {
     "data": {
      "text/html": [
       "<video alt=\"videos/ppo2-cartpole-step-0-to-step-500.mp4\" autoplay \n",
       "                    loop controls style=\"height: 400px;\">\n",
       "                    <source src=\"data:video/mp4;base64,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\" type=\"video/mp4\" />\n",
       "                </video>"
      ],
      "text/plain": [
       "<IPython.core.display.HTML object>"
      ]
     },
     "metadata": {},
     "output_type": "display_data"
    }
   ],
   "source": [
    "show_videos('videos', prefix='ppo2')"
   ]
  },
  {
   "cell_type": "code",
   "execution_count": null,
   "metadata": {},
   "outputs": [],
   "source": []
  },
  {
   "cell_type": "code",
   "execution_count": null,
   "metadata": {},
   "outputs": [],
   "source": []
  },
  {
   "cell_type": "code",
   "execution_count": null,
   "metadata": {},
   "outputs": [],
   "source": []
  },
  {
   "cell_type": "code",
   "execution_count": null,
   "metadata": {},
   "outputs": [],
   "source": []
  },
  {
   "cell_type": "code",
   "execution_count": null,
   "metadata": {},
   "outputs": [],
   "source": [
    "# model = PPO('MlpPolicy', \"CartPole-v1\", verbose=1).learn(1000)"
   ]
  },
  {
   "cell_type": "code",
   "execution_count": 10,
   "metadata": {},
   "outputs": [],
   "source": [
    "\n",
    "# def main():\n",
    "#     env = make_unity_env(\"run27_linux\", 4, False)\n",
    "#     ppo2.learn(\n",
    "#         network=\"mlp\",\n",
    "#         env=env,\n",
    "#         total_timesteps=100000,\n",
    "#         lr=1e-3,\n",
    "#     )\n",
    "\n",
    "# if __name__ == '__main__':\n",
    "#     main()"
   ]
  },
  {
   "cell_type": "code",
   "execution_count": 7,
   "metadata": {},
   "outputs": [
    {
     "name": "stdout",
     "output_type": "stream",
     "text": [
      "Episode:1 Score:19.0\n",
      "Episode:2 Score:15.0\n",
      "Episode:3 Score:12.0\n",
      "Episode:4 Score:11.0\n",
      "Episode:5 Score:67.0\n",
      "Episode:6 Score:35.0\n",
      "Episode:7 Score:29.0\n",
      "Episode:8 Score:13.0\n",
      "Episode:9 Score:15.0\n",
      "Episode:10 Score:17.0\n"
     ]
    }
   ],
   "source": [
    "episodes = 10\n",
    "for episode in range(1, episodes+1):\n",
    "    state = env.reset()\n",
    "    done = False\n",
    "    score = 0 \n",
    "    \n",
    "    while not done:\n",
    "        env.render()\n",
    "        action = random.choice([0,1])\n",
    "        n_state, reward, done, info = env.step(action)\n",
    "        score+=reward\n",
    "    print('Episode:{} Score:{}'.format(episode, score))"
   ]
  },
  {
   "cell_type": "markdown",
   "metadata": {},
   "source": [
    "# 2. Create a Deep Learning Model with Keras"
   ]
  },
  {
   "cell_type": "code",
   "execution_count": 8,
   "metadata": {},
   "outputs": [],
   "source": [
    "import numpy as np\n",
    "from tensorflow.keras.models import Sequential\n",
    "from tensorflow.keras.layers import Dense, Flatten\n",
    "from tensorflow.keras.optimizers import Adam"
   ]
  },
  {
   "cell_type": "code",
   "execution_count": 9,
   "metadata": {},
   "outputs": [],
   "source": [
    "def build_model(states, actions):\n",
    "    model = Sequential()\n",
    "    model.add(Flatten(input_shape=(1,states)))\n",
    "    model.add(Dense(24, activation='relu'))\n",
    "    model.add(Dense(24, activation='relu'))\n",
    "    model.add(Dense(actions, activation='linear'))\n",
    "    return model"
   ]
  },
  {
   "cell_type": "code",
   "execution_count": 10,
   "metadata": {},
   "outputs": [],
   "source": [
    "model = build_model(states, actions)"
   ]
  },
  {
   "cell_type": "code",
   "execution_count": 11,
   "metadata": {},
   "outputs": [
    {
     "name": "stdout",
     "output_type": "stream",
     "text": [
      "Model: \"sequential\"\n",
      "_________________________________________________________________\n",
      "Layer (type)                 Output Shape              Param #   \n",
      "=================================================================\n",
      "flatten (Flatten)            (None, 4)                 0         \n",
      "_________________________________________________________________\n",
      "dense (Dense)                (None, 24)                120       \n",
      "_________________________________________________________________\n",
      "dense_1 (Dense)              (None, 24)                600       \n",
      "_________________________________________________________________\n",
      "dense_2 (Dense)              (None, 2)                 50        \n",
      "=================================================================\n",
      "Total params: 770\n",
      "Trainable params: 770\n",
      "Non-trainable params: 0\n",
      "_________________________________________________________________\n"
     ]
    }
   ],
   "source": [
    "model.summary()"
   ]
  },
  {
   "cell_type": "markdown",
   "metadata": {},
   "source": [
    "# 3. Build Agent with Keras-RL"
   ]
  },
  {
   "cell_type": "code",
   "execution_count": 12,
   "metadata": {},
   "outputs": [],
   "source": [
    "from rl.agents import DQNAgent\n",
    "from rl.policy import BoltzmannQPolicy\n",
    "from rl.memory import SequentialMemory"
   ]
  },
  {
   "cell_type": "code",
   "execution_count": 13,
   "metadata": {},
   "outputs": [],
   "source": [
    "def build_agent(model, actions):\n",
    "    policy = BoltzmannQPolicy()\n",
    "    memory = SequentialMemory(limit=50000, window_length=1)\n",
    "    dqn = DQNAgent(model=model, memory=memory, policy=policy, \n",
    "                  nb_actions=actions, nb_steps_warmup=10, target_model_update=1e-2)\n",
    "    return dqn"
   ]
  },
  {
   "cell_type": "code",
   "execution_count": 21,
   "metadata": {},
   "outputs": [
    {
     "name": "stdout",
     "output_type": "stream",
     "text": [
      "Training for 50000 steps ...\n",
      "Interval 1 (0 steps performed)\n",
      "10000/10000 [==============================] - 112s 11ms/step - reward: 1.0000\n",
      "105 episodes - episode_reward: 93.733 [9.000, 200.000] - loss: 2.209 - mae: 18.578 - mean_q: 37.607\n",
      "\n",
      "Interval 2 (10000 steps performed)\n",
      "10000/10000 [==============================] - 110s 11ms/step - reward: 1.0000\n",
      "52 episodes - episode_reward: 194.827 [161.000, 200.000] - loss: 5.109 - mae: 38.310 - mean_q: 77.438\n",
      "\n",
      "Interval 3 (20000 steps performed)\n",
      "10000/10000 [==============================] - 106s 11ms/step - reward: 1.0000\n",
      "50 episodes - episode_reward: 196.800 [173.000, 200.000] - loss: 4.735 - mae: 41.417 - mean_q: 83.492\n",
      "\n",
      "Interval 4 (30000 steps performed)\n",
      "10000/10000 [==============================] - 114s 11ms/step - reward: 1.0000\n",
      "51 episodes - episode_reward: 199.745 [187.000, 200.000] - loss: 6.391 - mae: 40.217 - mean_q: 80.806\n",
      "\n",
      "Interval 5 (40000 steps performed)\n",
      "10000/10000 [==============================] - 114s 11ms/step - reward: 1.0000\n",
      "done, took 556.490 seconds\n"
     ]
    },
    {
     "data": {
      "text/plain": [
       "<tensorflow.python.keras.callbacks.History at 0x7f10a460a790>"
      ]
     },
     "execution_count": 21,
     "metadata": {},
     "output_type": "execute_result"
    }
   ],
   "source": [
    "del model\n",
    "model = build_model(states, actions)\n",
    "dqn = build_agent(model, actions)\n",
    "dqn.compile(Adam(lr=1e-3), metrics=['mae'])\n",
    "dqn.fit(env, nb_steps=50000, visualize=False, verbose=1)"
   ]
  },
  {
   "cell_type": "code",
   "execution_count": 23,
   "metadata": {},
   "outputs": [
    {
     "name": "stdout",
     "output_type": "stream",
     "text": [
      "Testing for 10 episodes ...\n",
      "Episode 1: reward: 200.000, steps: 200\n",
      "Episode 2: reward: 200.000, steps: 200\n",
      "Episode 3: reward: 200.000, steps: 200\n",
      "Episode 4: reward: 200.000, steps: 200\n",
      "Episode 5: reward: 200.000, steps: 200\n",
      "Episode 6: reward: 200.000, steps: 200\n",
      "Episode 7: reward: 200.000, steps: 200\n",
      "Episode 8: reward: 200.000, steps: 200\n",
      "Episode 9: reward: 200.000, steps: 200\n",
      "Episode 10: reward: 200.000, steps: 200\n",
      "200.0\n"
     ]
    }
   ],
   "source": [
    "scores = dqn.test(env, nb_episodes=10, visualize=False)\n",
    "print(np.mean(scores.history['episode_reward']))"
   ]
  },
  {
   "cell_type": "markdown",
   "metadata": {},
   "source": [
    "# 4. Reloading Agent from Memory"
   ]
  },
  {
   "cell_type": "code",
   "execution_count": 25,
   "metadata": {},
   "outputs": [],
   "source": [
    "dqn.save_weights('dqn_weights.h5f', overwrite=True)"
   ]
  },
  {
   "cell_type": "code",
   "execution_count": 26,
   "metadata": {},
   "outputs": [],
   "source": [
    "del model\n",
    "del dqn\n",
    "del env"
   ]
  },
  {
   "cell_type": "code",
   "execution_count": 27,
   "metadata": {},
   "outputs": [],
   "source": [
    "env = gym.make('CartPole-v0')\n",
    "actions = env.action_space.n\n",
    "states = env.observation_space.shape[0]\n",
    "model = build_model(states, actions)\n",
    "dqn = build_agent(model, actions)\n",
    "dqn.compile(Adam(lr=1e-3), metrics=['mae'])"
   ]
  },
  {
   "cell_type": "code",
   "execution_count": 28,
   "metadata": {},
   "outputs": [],
   "source": [
    "dqn.load_weights('dqn_weights.h5f')"
   ]
  },
  {
   "cell_type": "code",
   "execution_count": 29,
   "metadata": {},
   "outputs": [
    {
     "name": "stdout",
     "output_type": "stream",
     "text": [
      "Testing for 5 episodes ...\n",
      "Episode 1: reward: 200.000, steps: 200\n",
      "Episode 2: reward: 200.000, steps: 200\n",
      "Episode 3: reward: 200.000, steps: 200\n",
      "Episode 4: reward: 200.000, steps: 200\n",
      "Episode 5: reward: 200.000, steps: 200\n"
     ]
    }
   ],
   "source": [
    "_ = dqn.test(env, nb_episodes=5, visualize=True)"
   ]
  },
  {
   "cell_type": "code",
   "execution_count": null,
   "metadata": {},
   "outputs": [],
   "source": []
  }
 ],
 "metadata": {
  "kernelspec": {
   "display_name": "Python 3",
   "language": "python",
   "name": "python3"
  },
  "language_info": {
   "codemirror_mode": {
    "name": "ipython",
    "version": 3
   },
   "file_extension": ".py",
   "mimetype": "text/x-python",
   "name": "python",
   "nbconvert_exporter": "python",
   "pygments_lexer": "ipython3",
   "version": "3.8.5"
  }
 },
 "nbformat": 4,
 "nbformat_minor": 2
}
