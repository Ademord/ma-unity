{
 "cells": [
  {
   "cell_type": "code",
   "execution_count": null,
   "id": "e55fe183-657a-4323-8641-7655c8a8f7ca",
   "metadata": {},
   "outputs": [],
   "source": [
    "try:\n",
    "    import mlagents\n",
    "    from mlagents_envs.environment import UnityEnvironment as UE\n",
    "    from mlagents_envs.side_channel.engine_configuration_channel import EngineConfigurationChannel\n",
    "    print(\"ml-agents already installed\")\n",
    "except ImportError:\n",
    "#     !pip install mlagents==0.26.0\n",
    "    print(\"Please install ml-agents\")"
   ]
  },
  {
   "cell_type": "code",
   "execution_count": null,
   "id": "8f84bef9-4e0b-4829-98f6-9d5548a5b330",
   "metadata": {},
   "outputs": [],
   "source": [
    " class UnityEnv(gym.Env):\n",
    "    \"\"\"\n",
    "    Provides Gym wrapper for Unity Learning Environments.\n",
    "    Multi-agent environments use lists for object types, as done here:\n",
    "    https://github.com/openai/multiagent-particle-envs\n",
    "    \"\"\"\n",
    " \n",
    "    def __init__(\n",
    "        self,\n",
    "        environment_filename: str,\n",
    "        dimensions: int = [],   #Added\n",
    "        timescale: int = 1,     #Added\n",
    "        worker_id: int = 0,\n",
    "        use_visual: bool = False,\n",
    "        uint8_visual: bool = False,\n",
    "        multiagent: bool = False,\n",
    "        flatten_branched: bool = False,\n",
    "        no_graphics: bool = False,\n",
    "        allow_multiple_visual_obs: bool = False,\n",
    "        set_config: bool = True,    #Added\n",
    "    ):\n",
    "        \"\"\"\n",
    "        Environment initialization\n",
    "        :param environment_filename: The UnityEnvironment path or file to be wrapped in the gym.\n",
    "        :param worker_id: Worker number for environment.\n",
    "        :param use_visual: Whether to use visual observation or vector observation.\n",
    "        :param uint8_visual: Return visual observations as uint8 (0-255) matrices instead of float (0.0-1.0).\n",
    "        :param multiagent: Whether to run in multi-agent mode (lists of obs, reward, done).\n",
    "        :param flatten_branched: If True, turn branched discrete action spaces into a Discrete space rather than\n",
    "            MultiDiscrete.\n",
    "        :param no_graphics: Whether to run the Unity simulator in no-graphics mode\n",
    "        :param allow_multiple_visual_obs: If True, return a list of visual observations instead of only one.\n",
    "        \"\"\"\n",
    "        base_port = 5005\n",
    "        if environment_filename is None:\n",
    "            base_port = UnityEnvironment.DEFAULT_EDITOR_PORT\n",
    " \n",
    "        channel = EngineConfigurationChannel()        # Added\n",
    " \n",
    " \n",
    "        #Added\n",
    "        if set_config == True:\n",
    "            channel.set_configuration_parameters(time_scale=timescale, width=dimensions[0], height=dimensions[1])\n",
    "        #Added\n",
    " \n",
    "        self._env = UnityEnvironment(\n",
    "            environment_filename,\n",
    "            worker_id,\n",
    "            base_port=base_port,\n",
    "            no_graphics=no_graphics,\n",
    "            side_channels=[channel],        # Added\n",
    "        )"
   ]
  }
 ],
 "metadata": {
  "kernelspec": {
   "display_name": "Python 3",
   "language": "python",
   "name": "python3"
  },
  "language_info": {
   "codemirror_mode": {
    "name": "ipython",
    "version": 3
   },
   "file_extension": ".py",
   "mimetype": "text/x-python",
   "name": "python",
   "nbconvert_exporter": "python",
   "pygments_lexer": "ipython3",
   "version": "3.8.5"
  }
 },
 "nbformat": 4,
 "nbformat_minor": 5
}
