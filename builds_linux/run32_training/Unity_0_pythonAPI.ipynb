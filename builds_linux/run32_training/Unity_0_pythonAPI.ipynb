{
 "cells": [
  {
   "cell_type": "code",
   "execution_count": 1,
   "id": "6a311982-45c9-4aaf-9d82-ef21f1330457",
   "metadata": {},
   "outputs": [
    {
     "name": "stdout",
     "output_type": "stream",
     "text": [
      "ml-agents already installed\n"
     ]
    }
   ],
   "source": [
    "import mlagents\n",
    "from mlagents_envs.environment import UnityEnvironment as UE\n",
    "from mlagents_envs.side_channel.engine_configuration_channel import EngineConfigurationChannel\n",
    "print(\"ml-agents already installed\")"
   ]
  },
  {
   "cell_type": "code",
   "execution_count": 13,
   "id": "5796bebe-4906-42c2-a3e2-7305fadab2ac",
   "metadata": {},
   "outputs": [],
   "source": [
    "# -----------------\n",
    "# This code is used to close an env that might not have been closed before\n",
    "try:\n",
    "    env.close()\n",
    "except:\n",
    "    pass\n",
    "# -----------------"
   ]
  },
  {
   "cell_type": "code",
   "execution_count": 4,
   "id": "ac5bc523-f54b-4616-8d9e-1b036d74fd32",
   "metadata": {},
   "outputs": [],
   "source": [
    "# env = UE(file_name='run31', seed=1, side_channels=[])\n",
    "channel = EngineConfigurationChannel()\n",
    "env = UE(\"run32_training\", no_graphics=True, side_channels=[channel])\n",
    "channel.set_configuration_parameters(time_scale = 20.0)"
   ]
  },
  {
   "cell_type": "code",
   "execution_count": 6,
   "id": "cb89c46d-c5d7-419d-b8bc-cc61ded940d9",
   "metadata": {},
   "outputs": [],
   "source": [
    "env.reset()"
   ]
  },
  {
   "cell_type": "code",
   "execution_count": 8,
   "id": "461350b1-0fc3-4258-ab8b-b9b569f0a171",
   "metadata": {},
   "outputs": [
    {
     "name": "stdout",
     "output_type": "stream",
     "text": [
      "Name of the behavior : Hummingbird?team=0\n"
     ]
    }
   ],
   "source": [
    "behavior_name = list(env.behavior_specs)[0]\n",
    "print(f\"Name of the behavior : {behavior_name}\")"
   ]
  },
  {
   "cell_type": "code",
   "execution_count": 9,
   "id": "b712268d-5eac-4b26-b6be-a6d091067e34",
   "metadata": {},
   "outputs": [
    {
     "data": {
      "text/plain": [
       "BehaviorSpec(observation_specs=[ObservationSpec(shape=(44,), dimension_property=(<DimensionProperty.NONE: 1>,), observation_type=<ObservationType.DEFAULT: 0>, name='RayPerceptionSensor'), ObservationSpec(shape=(3,), dimension_property=(<DimensionProperty.NONE: 1>,), observation_type=<ObservationType.DEFAULT: 0>, name='StackingSensor_size3_VectorSensor_size1')], action_spec=ActionSpec(continuous_size=0, discrete_branches=(3, 3, 3)))"
      ]
     },
     "execution_count": 9,
     "metadata": {},
     "output_type": "execute_result"
    }
   ],
   "source": [
    "spec = env.behavior_specs[behavior_name]\n",
    "spec"
   ]
  },
  {
   "cell_type": "code",
   "execution_count": 10,
   "id": "a7918513-5831-4b1e-8bbe-debecd1cd9d1",
   "metadata": {},
   "outputs": [
    {
     "data": {
      "text/plain": [
       "[ObservationSpec(shape=(44,), dimension_property=(<DimensionProperty.NONE: 1>,), observation_type=<ObservationType.DEFAULT: 0>, name='RayPerceptionSensor'),\n",
       " ObservationSpec(shape=(3,), dimension_property=(<DimensionProperty.NONE: 1>,), observation_type=<ObservationType.DEFAULT: 0>, name='StackingSensor_size3_VectorSensor_size1')]"
      ]
     },
     "execution_count": 10,
     "metadata": {},
     "output_type": "execute_result"
    }
   ],
   "source": [
    "spec.observation_specs"
   ]
  },
  {
   "cell_type": "code",
   "execution_count": 12,
   "id": "85c76e91-90cc-4e4b-a19c-361b1d338804",
   "metadata": {},
   "outputs": [
    {
     "data": {
      "text/plain": [
       "ActionSpec(continuous_size=0, discrete_branches=(3, 3, 3))"
      ]
     },
     "execution_count": 12,
     "metadata": {},
     "output_type": "execute_result"
    }
   ],
   "source": [
    "spec.action_spec"
   ]
  },
  {
   "cell_type": "code",
   "execution_count": null,
   "id": "cf472e2a-8e1d-401b-8803-5b1b1976f6be",
   "metadata": {},
   "outputs": [],
   "source": [
    "# Is the Action continuous or multi-discrete ?\n",
    "if spec.action_spec.continuous_size > 0:\n",
    "    print(f\"There are {spec.action_spec.continuous_size} continuous actions\")\n",
    "if spec.action_spec.is_discrete():\n",
    "    print(f\"There are {spec.action_spec.discrete_size} discrete actions\")\n",
    "\n",
    "\n",
    "# How many actions are possible ?\n",
    "#print(f\"There are {spec.action_size} action(s)\")\n",
    "\n",
    "# For discrete actions only : How many different options does each action has ?\n",
    "if spec.action_spec.discrete_size > 0:\n",
    "    for action, branch_size in enumerate(spec.action_spec.discrete_branches):\n",
    "        print(f\"Action number {action} has {branch_size} different options\")\n",
    "    \n"
   ]
  },
  {
   "cell_type": "code",
   "execution_count": null,
   "id": "a7e8a30d-e5a1-4b65-8b11-efc5b844e758",
   "metadata": {},
   "outputs": [],
   "source": []
  }
 ],
 "metadata": {
  "kernelspec": {
   "display_name": "Python 3",
   "language": "python",
   "name": "python3"
  },
  "language_info": {
   "codemirror_mode": {
    "name": "ipython",
    "version": 3
   },
   "file_extension": ".py",
   "mimetype": "text/x-python",
   "name": "python",
   "nbconvert_exporter": "python",
   "pygments_lexer": "ipython3",
   "version": "3.8.5"
  }
 },
 "nbformat": 4,
 "nbformat_minor": 5
}
