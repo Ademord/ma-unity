{
 "cells": [
  {
   "cell_type": "markdown",
   "id": "42fcf3dd-175d-477c-a281-bfa2c6ff6785",
   "metadata": {},
   "source": [
    "# Load Environment"
   ]
  },
  {
   "cell_type": "code",
   "execution_count": 7,
   "id": "8c0bd207-01f1-4e4a-a2dd-d738ffb7ad1c",
   "metadata": {},
   "outputs": [
    {
     "name": "stdout",
     "output_type": "stream",
     "text": [
      "[INFO] Connected to Unity environment with package version 2.0.0-exp.1 and communication version 1.5.0\n",
      "[INFO] Connected new brain: Hummingbird?team=0\n",
      "[WARNING] The environment contains multiple observations. You must define allow_multiple_obs=True to receive them all. Otherwise, only the first visual observation (or vector observation ifthere are no visual observations) will be provided in the observation.\n"
     ]
    }
   ],
   "source": [
    "from gym_unity.envs import UnityToGymWrapper \n",
    "from mlagents_envs.environment import UnityEnvironment\n",
    "from stable_baselines3 import PPO\n",
    "\n",
    "# -----------------\n",
    "try:\n",
    "    unity_env.close()\n",
    "    env.close()\n",
    "except:\n",
    "    pass\n",
    "# -----------------\n",
    "\n",
    "env_location = \"../run32_nostacked/run32_nostacked\"\n",
    "model_id = \"sb_ppo_HumSingleNoStacked\"\n",
    "unity_env = UnityEnvironment(file_name=env_location)\n",
    "env = UnityToGymWrapper(unity_env, uint8_visual=False, allow_multiple_obs=False)\n"
   ]
  },
  {
   "cell_type": "code",
   "execution_count": 71,
   "id": "0b12ef39-207e-4c61-8f26-8c452296a71b",
   "metadata": {},
   "outputs": [],
   "source": [
    "obs = env.reset()\n",
    "for i in range(1000):\n",
    "    action, _state = model.predict(obs, deterministic=True)\n",
    "    obs, reward, done, info = env.step(action)\n",
    "    env.render()\n",
    "    if done:\n",
    "        obs = env.reset()"
   ]
  },
  {
   "cell_type": "code",
   "execution_count": 8,
   "id": "b03fadd7-a7ae-42a5-8ca6-16cd32a50ac1",
   "metadata": {},
   "outputs": [
    {
     "data": {
      "text/plain": [
       "Box(-inf, inf, (47,), float32)"
      ]
     },
     "execution_count": 8,
     "metadata": {},
     "output_type": "execute_result"
    }
   ],
   "source": [
    "# allow_multiple_obs=True, i get a => Tuple(Box(-inf, inf, (47,), float32))\n",
    "# allow_multiple_obs=False, i get a => Box(-inf, inf, (47,), float32)\n",
    "env.observation_space"
   ]
  },
  {
   "cell_type": "code",
   "execution_count": 9,
   "id": "edfd1568-16e7-4a49-9fac-8cc78ca3fd88",
   "metadata": {},
   "outputs": [
    {
     "data": {
      "text/plain": [
       "47"
      ]
     },
     "execution_count": 9,
     "metadata": {},
     "output_type": "execute_result"
    }
   ],
   "source": [
    "state_dim = env.observation_space.shape[0]\n",
    "state_dim"
   ]
  },
  {
   "cell_type": "code",
   "execution_count": 12,
   "id": "05e30727-d812-4aa7-8448-133ef2070e14",
   "metadata": {},
   "outputs": [
    {
     "data": {
      "text/plain": [
       "MultiDiscrete([3 3 3])"
      ]
     },
     "execution_count": 12,
     "metadata": {},
     "output_type": "execute_result"
    }
   ],
   "source": [
    "action_dim = env.action_space # can access .n if it is a flattened\n",
    "action_dim"
   ]
  },
  {
   "cell_type": "code",
   "execution_count": 13,
   "id": "773439c0-fb05-40fc-94b8-2f5b361b8586",
   "metadata": {},
   "outputs": [],
   "source": [
    "env.close()"
   ]
  },
  {
   "cell_type": "code",
   "execution_count": null,
   "id": "46d14f54-b967-4812-8925-f14a7707e96d",
   "metadata": {},
   "outputs": [],
   "source": []
  }
 ],
 "metadata": {
  "kernelspec": {
   "display_name": "Python 3",
   "language": "python",
   "name": "python3"
  },
  "language_info": {
   "codemirror_mode": {
    "name": "ipython",
    "version": 3
   },
   "file_extension": ".py",
   "mimetype": "text/x-python",
   "name": "python",
   "nbconvert_exporter": "python",
   "pygments_lexer": "ipython3",
   "version": "3.8.5"
  }
 },
 "nbformat": 4,
 "nbformat_minor": 5
}
