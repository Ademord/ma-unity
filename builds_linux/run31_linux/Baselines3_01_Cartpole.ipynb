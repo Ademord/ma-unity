{
 "cells": [
  {
   "cell_type": "markdown",
   "metadata": {},
   "source": [
    "# 0. Install Dependencies"
   ]
  },
  {
   "cell_type": "code",
   "execution_count": null,
   "metadata": {},
   "outputs": [],
   "source": [
    "# !apt-get install --y ffmpeg freeglut3-dev xvfb  # For visualization"
   ]
  },
  {
   "cell_type": "code",
   "execution_count": 1,
   "metadata": {},
   "outputs": [
    {
     "name": "stdout",
     "output_type": "stream",
     "text": [
      "Requirement already satisfied: tensorflow-gpu in /usr/local/lib/python3.8/dist-packages (2.3.1)\n",
      "Requirement already satisfied: h5py<2.11.0,>=2.10.0 in /usr/local/lib/python3.8/dist-packages (from tensorflow-gpu) (2.10.0)\n",
      "Requirement already satisfied: opt-einsum>=2.3.2 in /usr/local/lib/python3.8/dist-packages (from tensorflow-gpu) (3.3.0)\n",
      "Requirement already satisfied: grpcio>=1.8.6 in /usr/local/lib/python3.8/dist-packages (from tensorflow-gpu) (1.33.2)\n",
      "Requirement already satisfied: gast==0.3.3 in /usr/local/lib/python3.8/dist-packages (from tensorflow-gpu) (0.3.3)\n",
      "Requirement already satisfied: numpy<1.19.0,>=1.16.0 in /usr/lib/python3/dist-packages (from tensorflow-gpu) (1.17.4)\n",
      "Requirement already satisfied: astunparse==1.6.3 in /usr/local/lib/python3.8/dist-packages (from tensorflow-gpu) (1.6.3)\n",
      "Requirement already satisfied: wrapt>=1.11.1 in /usr/local/lib/python3.8/dist-packages (from tensorflow-gpu) (1.12.1)\n",
      "Requirement already satisfied: protobuf>=3.9.2 in /usr/local/lib/python3.8/dist-packages (from tensorflow-gpu) (3.13.0)\n",
      "Requirement already satisfied: tensorboard<3,>=2.3.0 in /usr/local/lib/python3.8/dist-packages (from tensorflow-gpu) (2.3.0)\n",
      "Requirement already satisfied: keras-preprocessing<1.2,>=1.1.1 in /usr/local/lib/python3.8/dist-packages (from tensorflow-gpu) (1.1.2)\n",
      "Requirement already satisfied: tensorflow-estimator<2.4.0,>=2.3.0 in /usr/local/lib/python3.8/dist-packages (from tensorflow-gpu) (2.3.0)\n",
      "Requirement already satisfied: six>=1.12.0 in /usr/local/lib/python3.8/dist-packages (from tensorflow-gpu) (1.15.0)\n",
      "Requirement already satisfied: absl-py>=0.7.0 in /usr/local/lib/python3.8/dist-packages (from tensorflow-gpu) (0.11.0)\n",
      "Requirement already satisfied: wheel>=0.26 in /usr/lib/python3/dist-packages (from tensorflow-gpu) (0.34.2)\n",
      "Requirement already satisfied: google-pasta>=0.1.8 in /usr/local/lib/python3.8/dist-packages (from tensorflow-gpu) (0.2.0)\n",
      "Requirement already satisfied: termcolor>=1.1.0 in /usr/local/lib/python3.8/dist-packages (from tensorflow-gpu) (1.1.0)\n",
      "Requirement already satisfied: setuptools in /usr/lib/python3/dist-packages (from protobuf>=3.9.2->tensorflow-gpu) (45.2.0)\n",
      "Requirement already satisfied: tensorboard-plugin-wit>=1.6.0 in /usr/local/lib/python3.8/dist-packages (from tensorboard<3,>=2.3.0->tensorflow-gpu) (1.7.0)\n",
      "Requirement already satisfied: werkzeug>=0.11.15 in /usr/local/lib/python3.8/dist-packages (from tensorboard<3,>=2.3.0->tensorflow-gpu) (1.0.1)\n",
      "Requirement already satisfied: google-auth<2,>=1.6.3 in /usr/local/lib/python3.8/dist-packages (from tensorboard<3,>=2.3.0->tensorflow-gpu) (1.22.1)\n",
      "Requirement already satisfied: markdown>=2.6.8 in /usr/local/lib/python3.8/dist-packages (from tensorboard<3,>=2.3.0->tensorflow-gpu) (3.3.3)\n",
      "Requirement already satisfied: requests<3,>=2.21.0 in /usr/local/lib/python3.8/dist-packages (from tensorboard<3,>=2.3.0->tensorflow-gpu) (2.24.0)\n",
      "Requirement already satisfied: google-auth-oauthlib<0.5,>=0.4.1 in /usr/local/lib/python3.8/dist-packages (from tensorboard<3,>=2.3.0->tensorflow-gpu) (0.4.2)\n",
      "Requirement already satisfied: rsa<5,>=3.1.4; python_version >= \"3.5\" in /usr/local/lib/python3.8/dist-packages (from google-auth<2,>=1.6.3->tensorboard<3,>=2.3.0->tensorflow-gpu) (4.6)\n",
      "Requirement already satisfied: cachetools<5.0,>=2.0.0 in /usr/local/lib/python3.8/dist-packages (from google-auth<2,>=1.6.3->tensorboard<3,>=2.3.0->tensorflow-gpu) (4.1.1)\n",
      "Requirement already satisfied: pyasn1-modules>=0.2.1 in /usr/lib/python3/dist-packages (from google-auth<2,>=1.6.3->tensorboard<3,>=2.3.0->tensorflow-gpu) (0.2.1)\n",
      "Requirement already satisfied: chardet<4,>=3.0.2 in /usr/local/lib/python3.8/dist-packages (from requests<3,>=2.21.0->tensorboard<3,>=2.3.0->tensorflow-gpu) (3.0.4)\n",
      "Requirement already satisfied: urllib3!=1.25.0,!=1.25.1,<1.26,>=1.21.1 in /usr/local/lib/python3.8/dist-packages (from requests<3,>=2.21.0->tensorboard<3,>=2.3.0->tensorflow-gpu) (1.25.11)\n",
      "Requirement already satisfied: idna<3,>=2.5 in /usr/lib/python3/dist-packages (from requests<3,>=2.21.0->tensorboard<3,>=2.3.0->tensorflow-gpu) (2.8)\n",
      "Requirement already satisfied: certifi>=2017.4.17 in /usr/local/lib/python3.8/dist-packages (from requests<3,>=2.21.0->tensorboard<3,>=2.3.0->tensorflow-gpu) (2020.6.20)\n",
      "Requirement already satisfied: requests-oauthlib>=0.7.0 in /usr/local/lib/python3.8/dist-packages (from google-auth-oauthlib<0.5,>=0.4.1->tensorboard<3,>=2.3.0->tensorflow-gpu) (1.3.0)\n",
      "Requirement already satisfied: pyasn1>=0.1.3 in /usr/lib/python3/dist-packages (from rsa<5,>=3.1.4; python_version >= \"3.5\"->google-auth<2,>=1.6.3->tensorboard<3,>=2.3.0->tensorflow-gpu) (0.4.2)\n",
      "Requirement already satisfied: oauthlib>=3.0.0 in /usr/local/lib/python3.8/dist-packages (from requests-oauthlib>=0.7.0->google-auth-oauthlib<0.5,>=0.4.1->tensorboard<3,>=2.3.0->tensorflow-gpu) (3.1.0)\n",
      "Requirement already satisfied: gym in /usr/local/lib/python3.8/dist-packages (0.18.3)\n",
      "Requirement already satisfied: cloudpickle<1.7.0,>=1.2.0 in /usr/local/lib/python3.8/dist-packages (from gym) (1.6.0)\n",
      "Requirement already satisfied: numpy>=1.10.4 in /usr/lib/python3/dist-packages (from gym) (1.17.4)\n",
      "Requirement already satisfied: scipy in /usr/local/lib/python3.8/dist-packages (from gym) (1.5.3)\n",
      "Requirement already satisfied: pyglet<=1.5.15,>=1.4.0 in /usr/local/lib/python3.8/dist-packages (from gym) (1.5.15)\n",
      "Requirement already satisfied: Pillow<=8.2.0 in /usr/local/lib/python3.8/dist-packages (from gym) (8.0.1)\n",
      "Requirement already satisfied: keras in /usr/local/lib/python3.8/dist-packages (2.4.3)\n",
      "Requirement already satisfied: numpy>=1.9.1 in /usr/lib/python3/dist-packages (from keras) (1.17.4)\n",
      "Requirement already satisfied: h5py in /usr/local/lib/python3.8/dist-packages (from keras) (2.10.0)\n",
      "Requirement already satisfied: scipy>=0.14 in /usr/local/lib/python3.8/dist-packages (from keras) (1.5.3)\n",
      "Requirement already satisfied: pyyaml in /usr/local/lib/python3.8/dist-packages (from keras) (5.1)\n",
      "Requirement already satisfied: six in /usr/local/lib/python3.8/dist-packages (from h5py->keras) (1.15.0)\n",
      "Collecting keras-rl2\n",
      "  Downloading keras_rl2-1.0.5-py3-none-any.whl (52 kB)\n",
      "\u001b[K     |████████████████████████████████| 52 kB 27 kB/s  eta 0:00:011\n",
      "\u001b[?25hRequirement already satisfied: tensorflow in /usr/local/lib/python3.8/dist-packages (from keras-rl2) (2.3.1)\n",
      "Requirement already satisfied: tensorflow-estimator<2.4.0,>=2.3.0 in /usr/local/lib/python3.8/dist-packages (from tensorflow->keras-rl2) (2.3.0)\n",
      "Requirement already satisfied: h5py<2.11.0,>=2.10.0 in /usr/local/lib/python3.8/dist-packages (from tensorflow->keras-rl2) (2.10.0)\n",
      "Requirement already satisfied: gast==0.3.3 in /usr/local/lib/python3.8/dist-packages (from tensorflow->keras-rl2) (0.3.3)\n",
      "Requirement already satisfied: grpcio>=1.8.6 in /usr/local/lib/python3.8/dist-packages (from tensorflow->keras-rl2) (1.33.2)\n",
      "Requirement already satisfied: termcolor>=1.1.0 in /usr/local/lib/python3.8/dist-packages (from tensorflow->keras-rl2) (1.1.0)\n",
      "Requirement already satisfied: astunparse==1.6.3 in /usr/local/lib/python3.8/dist-packages (from tensorflow->keras-rl2) (1.6.3)\n",
      "Requirement already satisfied: opt-einsum>=2.3.2 in /usr/local/lib/python3.8/dist-packages (from tensorflow->keras-rl2) (3.3.0)\n",
      "Requirement already satisfied: protobuf>=3.9.2 in /usr/local/lib/python3.8/dist-packages (from tensorflow->keras-rl2) (3.13.0)\n",
      "Requirement already satisfied: wrapt>=1.11.1 in /usr/local/lib/python3.8/dist-packages (from tensorflow->keras-rl2) (1.12.1)\n",
      "Requirement already satisfied: google-pasta>=0.1.8 in /usr/local/lib/python3.8/dist-packages (from tensorflow->keras-rl2) (0.2.0)\n",
      "Requirement already satisfied: wheel>=0.26 in /usr/lib/python3/dist-packages (from tensorflow->keras-rl2) (0.34.2)\n",
      "Requirement already satisfied: numpy<1.19.0,>=1.16.0 in /usr/lib/python3/dist-packages (from tensorflow->keras-rl2) (1.17.4)\n",
      "Requirement already satisfied: tensorboard<3,>=2.3.0 in /usr/local/lib/python3.8/dist-packages (from tensorflow->keras-rl2) (2.3.0)\n",
      "Requirement already satisfied: six>=1.12.0 in /usr/local/lib/python3.8/dist-packages (from tensorflow->keras-rl2) (1.15.0)\n",
      "Requirement already satisfied: absl-py>=0.7.0 in /usr/local/lib/python3.8/dist-packages (from tensorflow->keras-rl2) (0.11.0)\n",
      "Requirement already satisfied: keras-preprocessing<1.2,>=1.1.1 in /usr/local/lib/python3.8/dist-packages (from tensorflow->keras-rl2) (1.1.2)\n",
      "Requirement already satisfied: setuptools in /usr/lib/python3/dist-packages (from protobuf>=3.9.2->tensorflow->keras-rl2) (45.2.0)\n"
     ]
    },
    {
     "name": "stdout",
     "output_type": "stream",
     "text": [
      "Requirement already satisfied: google-auth-oauthlib<0.5,>=0.4.1 in /usr/local/lib/python3.8/dist-packages (from tensorboard<3,>=2.3.0->tensorflow->keras-rl2) (0.4.2)\n",
      "Requirement already satisfied: google-auth<2,>=1.6.3 in /usr/local/lib/python3.8/dist-packages (from tensorboard<3,>=2.3.0->tensorflow->keras-rl2) (1.22.1)\n",
      "Requirement already satisfied: markdown>=2.6.8 in /usr/local/lib/python3.8/dist-packages (from tensorboard<3,>=2.3.0->tensorflow->keras-rl2) (3.3.3)\n",
      "Requirement already satisfied: tensorboard-plugin-wit>=1.6.0 in /usr/local/lib/python3.8/dist-packages (from tensorboard<3,>=2.3.0->tensorflow->keras-rl2) (1.7.0)\n",
      "Requirement already satisfied: werkzeug>=0.11.15 in /usr/local/lib/python3.8/dist-packages (from tensorboard<3,>=2.3.0->tensorflow->keras-rl2) (1.0.1)\n",
      "Requirement already satisfied: requests<3,>=2.21.0 in /usr/local/lib/python3.8/dist-packages (from tensorboard<3,>=2.3.0->tensorflow->keras-rl2) (2.24.0)\n",
      "Requirement already satisfied: requests-oauthlib>=0.7.0 in /usr/local/lib/python3.8/dist-packages (from google-auth-oauthlib<0.5,>=0.4.1->tensorboard<3,>=2.3.0->tensorflow->keras-rl2) (1.3.0)\n",
      "Requirement already satisfied: rsa<5,>=3.1.4; python_version >= \"3.5\" in /usr/local/lib/python3.8/dist-packages (from google-auth<2,>=1.6.3->tensorboard<3,>=2.3.0->tensorflow->keras-rl2) (4.6)\n",
      "Requirement already satisfied: pyasn1-modules>=0.2.1 in /usr/lib/python3/dist-packages (from google-auth<2,>=1.6.3->tensorboard<3,>=2.3.0->tensorflow->keras-rl2) (0.2.1)\n",
      "Requirement already satisfied: cachetools<5.0,>=2.0.0 in /usr/local/lib/python3.8/dist-packages (from google-auth<2,>=1.6.3->tensorboard<3,>=2.3.0->tensorflow->keras-rl2) (4.1.1)\n",
      "Requirement already satisfied: idna<3,>=2.5 in /usr/lib/python3/dist-packages (from requests<3,>=2.21.0->tensorboard<3,>=2.3.0->tensorflow->keras-rl2) (2.8)\n",
      "Requirement already satisfied: chardet<4,>=3.0.2 in /usr/local/lib/python3.8/dist-packages (from requests<3,>=2.21.0->tensorboard<3,>=2.3.0->tensorflow->keras-rl2) (3.0.4)\n",
      "Requirement already satisfied: certifi>=2017.4.17 in /usr/local/lib/python3.8/dist-packages (from requests<3,>=2.21.0->tensorboard<3,>=2.3.0->tensorflow->keras-rl2) (2020.6.20)\n",
      "Requirement already satisfied: urllib3!=1.25.0,!=1.25.1,<1.26,>=1.21.1 in /usr/local/lib/python3.8/dist-packages (from requests<3,>=2.21.0->tensorboard<3,>=2.3.0->tensorflow->keras-rl2) (1.25.11)\n",
      "Requirement already satisfied: oauthlib>=3.0.0 in /usr/local/lib/python3.8/dist-packages (from requests-oauthlib>=0.7.0->google-auth-oauthlib<0.5,>=0.4.1->tensorboard<3,>=2.3.0->tensorflow->keras-rl2) (3.1.0)\n",
      "Requirement already satisfied: pyasn1>=0.1.3 in /usr/lib/python3/dist-packages (from rsa<5,>=3.1.4; python_version >= \"3.5\"->google-auth<2,>=1.6.3->tensorboard<3,>=2.3.0->tensorflow->keras-rl2) (0.4.2)\n",
      "Installing collected packages: keras-rl2\n",
      "Successfully installed keras-rl2-1.0.5\n",
      "Requirement already satisfied: gym_unity in /usr/local/lib/python3.8/dist-packages (0.26.0)\n",
      "Requirement already satisfied: gym in /usr/local/lib/python3.8/dist-packages (from gym_unity) (0.18.3)\n",
      "Requirement already satisfied: mlagents-envs==0.26.0 in /usr/local/lib/python3.8/dist-packages (from gym_unity) (0.26.0)\n",
      "Requirement already satisfied: numpy>=1.10.4 in /usr/lib/python3/dist-packages (from gym->gym_unity) (1.17.4)\n",
      "Requirement already satisfied: cloudpickle<1.7.0,>=1.2.0 in /usr/local/lib/python3.8/dist-packages (from gym->gym_unity) (1.6.0)\n",
      "Requirement already satisfied: Pillow<=8.2.0 in /usr/local/lib/python3.8/dist-packages (from gym->gym_unity) (8.0.1)\n",
      "Requirement already satisfied: pyglet<=1.5.15,>=1.4.0 in /usr/local/lib/python3.8/dist-packages (from gym->gym_unity) (1.5.15)\n",
      "Requirement already satisfied: scipy in /usr/local/lib/python3.8/dist-packages (from gym->gym_unity) (1.5.3)\n",
      "Requirement already satisfied: protobuf>=3.6 in /usr/local/lib/python3.8/dist-packages (from mlagents-envs==0.26.0->gym_unity) (3.13.0)\n",
      "Requirement already satisfied: grpcio>=1.11.0 in /usr/local/lib/python3.8/dist-packages (from mlagents-envs==0.26.0->gym_unity) (1.33.2)\n",
      "Requirement already satisfied: pyyaml>=3.1.0 in /usr/local/lib/python3.8/dist-packages (from mlagents-envs==0.26.0->gym_unity) (5.1)\n",
      "Requirement already satisfied: setuptools in /usr/lib/python3/dist-packages (from protobuf>=3.6->mlagents-envs==0.26.0->gym_unity) (45.2.0)\n",
      "Requirement already satisfied: six>=1.9 in /usr/local/lib/python3.8/dist-packages (from protobuf>=3.6->mlagents-envs==0.26.0->gym_unity) (1.15.0)\n",
      "Requirement already satisfied: stable-baselines3[extra] in /usr/local/lib/python3.8/dist-packages (1.0)\n",
      "Requirement already satisfied: gym>=0.17 in /usr/local/lib/python3.8/dist-packages (from stable-baselines3[extra]) (0.18.3)\n",
      "Requirement already satisfied: matplotlib in /usr/local/lib/python3.8/dist-packages (from stable-baselines3[extra]) (3.3.2)\n",
      "Requirement already satisfied: numpy in /usr/lib/python3/dist-packages (from stable-baselines3[extra]) (1.17.4)\n",
      "Requirement already satisfied: torch>=1.4.0 in /usr/local/lib/python3.8/dist-packages (from stable-baselines3[extra]) (1.5.0+cu101)\n",
      "Requirement already satisfied: pandas in /usr/local/lib/python3.8/dist-packages (from stable-baselines3[extra]) (1.1.3)\n",
      "Requirement already satisfied: cloudpickle in /usr/local/lib/python3.8/dist-packages (from stable-baselines3[extra]) (1.6.0)\n",
      "Requirement already satisfied: pillow; extra == \"extra\" in /usr/local/lib/python3.8/dist-packages (from stable-baselines3[extra]) (8.0.1)\n",
      "Requirement already satisfied: atari-py~=0.2.0; extra == \"extra\" in /usr/local/lib/python3.8/dist-packages (from stable-baselines3[extra]) (0.2.9)\n",
      "Requirement already satisfied: opencv-python; extra == \"extra\" in /usr/local/lib/python3.8/dist-packages (from stable-baselines3[extra]) (4.4.0.44)\n",
      "Requirement already satisfied: psutil; extra == \"extra\" in /usr/local/lib/python3.8/dist-packages (from stable-baselines3[extra]) (5.8.0)\n",
      "Requirement already satisfied: tensorboard>=2.2.0; extra == \"extra\" in /usr/local/lib/python3.8/dist-packages (from stable-baselines3[extra]) (2.3.0)\n",
      "Requirement already satisfied: scipy in /usr/local/lib/python3.8/dist-packages (from gym>=0.17->stable-baselines3[extra]) (1.5.3)\n",
      "Requirement already satisfied: pyglet<=1.5.15,>=1.4.0 in /usr/local/lib/python3.8/dist-packages (from gym>=0.17->stable-baselines3[extra]) (1.5.15)\n",
      "Requirement already satisfied: kiwisolver>=1.0.1 in /usr/local/lib/python3.8/dist-packages (from matplotlib->stable-baselines3[extra]) (1.3.0)\n",
      "Requirement already satisfied: certifi>=2020.06.20 in /usr/local/lib/python3.8/dist-packages (from matplotlib->stable-baselines3[extra]) (2020.6.20)\n",
      "Requirement already satisfied: python-dateutil>=2.1 in /usr/local/lib/python3.8/dist-packages (from matplotlib->stable-baselines3[extra]) (2.8.1)\n",
      "Requirement already satisfied: cycler>=0.10 in /usr/local/lib/python3.8/dist-packages (from matplotlib->stable-baselines3[extra]) (0.10.0)\n",
      "Requirement already satisfied: pyparsing!=2.0.4,!=2.1.2,!=2.1.6,>=2.0.3 in /usr/local/lib/python3.8/dist-packages (from matplotlib->stable-baselines3[extra]) (2.4.7)\n",
      "Requirement already satisfied: future in /usr/local/lib/python3.8/dist-packages (from torch>=1.4.0->stable-baselines3[extra]) (0.18.2)\n",
      "Requirement already satisfied: pytz>=2017.2 in /usr/local/lib/python3.8/dist-packages (from pandas->stable-baselines3[extra]) (2020.1)\n",
      "Requirement already satisfied: six in /usr/local/lib/python3.8/dist-packages (from atari-py~=0.2.0; extra == \"extra\"->stable-baselines3[extra]) (1.15.0)\n",
      "Requirement already satisfied: google-auth<2,>=1.6.3 in /usr/local/lib/python3.8/dist-packages (from tensorboard>=2.2.0; extra == \"extra\"->stable-baselines3[extra]) (1.22.1)\n",
      "Requirement already satisfied: grpcio>=1.24.3 in /usr/local/lib/python3.8/dist-packages (from tensorboard>=2.2.0; extra == \"extra\"->stable-baselines3[extra]) (1.33.2)\n",
      "Requirement already satisfied: absl-py>=0.4 in /usr/local/lib/python3.8/dist-packages (from tensorboard>=2.2.0; extra == \"extra\"->stable-baselines3[extra]) (0.11.0)\n",
      "Requirement already satisfied: wheel>=0.26; python_version >= \"3\" in /usr/lib/python3/dist-packages (from tensorboard>=2.2.0; extra == \"extra\"->stable-baselines3[extra]) (0.34.2)\n",
      "Requirement already satisfied: protobuf>=3.6.0 in /usr/local/lib/python3.8/dist-packages (from tensorboard>=2.2.0; extra == \"extra\"->stable-baselines3[extra]) (3.13.0)\n",
      "Requirement already satisfied: werkzeug>=0.11.15 in /usr/local/lib/python3.8/dist-packages (from tensorboard>=2.2.0; extra == \"extra\"->stable-baselines3[extra]) (1.0.1)\n"
     ]
    },
    {
     "name": "stdout",
     "output_type": "stream",
     "text": [
      "Requirement already satisfied: markdown>=2.6.8 in /usr/local/lib/python3.8/dist-packages (from tensorboard>=2.2.0; extra == \"extra\"->stable-baselines3[extra]) (3.3.3)\r\n",
      "Requirement already satisfied: requests<3,>=2.21.0 in /usr/local/lib/python3.8/dist-packages (from tensorboard>=2.2.0; extra == \"extra\"->stable-baselines3[extra]) (2.24.0)\r\n",
      "Requirement already satisfied: setuptools>=41.0.0 in /usr/lib/python3/dist-packages (from tensorboard>=2.2.0; extra == \"extra\"->stable-baselines3[extra]) (45.2.0)\r\n",
      "Requirement already satisfied: google-auth-oauthlib<0.5,>=0.4.1 in /usr/local/lib/python3.8/dist-packages (from tensorboard>=2.2.0; extra == \"extra\"->stable-baselines3[extra]) (0.4.2)\r\n",
      "Requirement already satisfied: tensorboard-plugin-wit>=1.6.0 in /usr/local/lib/python3.8/dist-packages (from tensorboard>=2.2.0; extra == \"extra\"->stable-baselines3[extra]) (1.7.0)\r\n",
      "Requirement already satisfied: rsa<5,>=3.1.4; python_version >= \"3.5\" in /usr/local/lib/python3.8/dist-packages (from google-auth<2,>=1.6.3->tensorboard>=2.2.0; extra == \"extra\"->stable-baselines3[extra]) (4.6)\r\n",
      "Requirement already satisfied: pyasn1-modules>=0.2.1 in /usr/lib/python3/dist-packages (from google-auth<2,>=1.6.3->tensorboard>=2.2.0; extra == \"extra\"->stable-baselines3[extra]) (0.2.1)\r\n",
      "Requirement already satisfied: cachetools<5.0,>=2.0.0 in /usr/local/lib/python3.8/dist-packages (from google-auth<2,>=1.6.3->tensorboard>=2.2.0; extra == \"extra\"->stable-baselines3[extra]) (4.1.1)\r\n",
      "Requirement already satisfied: chardet<4,>=3.0.2 in /usr/local/lib/python3.8/dist-packages (from requests<3,>=2.21.0->tensorboard>=2.2.0; extra == \"extra\"->stable-baselines3[extra]) (3.0.4)\r\n",
      "Requirement already satisfied: urllib3!=1.25.0,!=1.25.1,<1.26,>=1.21.1 in /usr/local/lib/python3.8/dist-packages (from requests<3,>=2.21.0->tensorboard>=2.2.0; extra == \"extra\"->stable-baselines3[extra]) (1.25.11)\r\n",
      "Requirement already satisfied: idna<3,>=2.5 in /usr/lib/python3/dist-packages (from requests<3,>=2.21.0->tensorboard>=2.2.0; extra == \"extra\"->stable-baselines3[extra]) (2.8)\r\n",
      "Requirement already satisfied: requests-oauthlib>=0.7.0 in /usr/local/lib/python3.8/dist-packages (from google-auth-oauthlib<0.5,>=0.4.1->tensorboard>=2.2.0; extra == \"extra\"->stable-baselines3[extra]) (1.3.0)\r\n",
      "Requirement already satisfied: pyasn1>=0.1.3 in /usr/lib/python3/dist-packages (from rsa<5,>=3.1.4; python_version >= \"3.5\"->google-auth<2,>=1.6.3->tensorboard>=2.2.0; extra == \"extra\"->stable-baselines3[extra]) (0.4.2)\r\n",
      "Requirement already satisfied: oauthlib>=3.0.0 in /usr/local/lib/python3.8/dist-packages (from requests-oauthlib>=0.7.0->google-auth-oauthlib<0.5,>=0.4.1->tensorboard>=2.2.0; extra == \"extra\"->stable-baselines3[extra]) (3.1.0)\r\n"
     ]
    }
   ],
   "source": [
    "!pip install tensorflow-gpu\n",
    "!pip install gym\n",
    "!pip install keras\n",
    "!pip install keras-rl2\n",
    "!pip3 install gym_unity\n",
    "# !pip install --force-reinstall git+git://github.com/openai/baselines@tf\n",
    "!pip install stable-baselines3[extra]"
   ]
  },
  {
   "cell_type": "markdown",
   "metadata": {},
   "source": [
    "# 1. Test Random Environment with OpenAI Gym"
   ]
  },
  {
   "cell_type": "code",
   "execution_count": 1,
   "metadata": {},
   "outputs": [],
   "source": [
    "import gym\n",
    "import numpy as np\n",
    "from stable_baselines3 import PPO\n",
    "from stable_baselines3.ppo.policies import MlpPolicy\n",
    "from stable_baselines3.common.monitor import Monitor"
   ]
  },
  {
   "cell_type": "code",
   "execution_count": 2,
   "metadata": {},
   "outputs": [],
   "source": [
    "env = Monitor(gym.make('CartPole-v1'))\n",
    "\n",
    "model = PPO(MlpPolicy, env, verbose=0)"
   ]
  },
  {
   "cell_type": "code",
   "execution_count": 3,
   "metadata": {},
   "outputs": [],
   "source": [
    "def evaluate(model, num_episodes=100):\n",
    "    \"\"\"\n",
    "    Evaluate a RL agent\n",
    "    :param model: (BaseRLModel object) the RL Agent\n",
    "    :param num_episodes: (int) number of episodes to evaluate it\n",
    "    :return: (float) Mean reward for the last num_episodes\n",
    "    \"\"\"\n",
    "    # This function will only work for a single Environment\n",
    "    env = model.get_env()\n",
    "    all_episode_rewards = []\n",
    "    for i in range(num_episodes):\n",
    "        episode_rewards = []\n",
    "        done = False\n",
    "        obs = env.reset()\n",
    "        while not done:\n",
    "            env.render()\n",
    "            # _states are only useful when using LSTM policies\n",
    "            action, _states = model.predict(obs)\n",
    "            # here, action, rewards and dones are arrays\n",
    "            # because we are using vectorized env\n",
    "            obs, reward, done, info = env.step(action)\n",
    "            episode_rewards.append(reward)\n",
    "\n",
    "        all_episode_rewards.append(sum(episode_rewards))\n",
    "    \n",
    "    env.close()\n",
    "    mean_episode_reward = np.mean(all_episode_rewards)\n",
    "    print(\"Mean reward:\", mean_episode_reward, \"Num episodes:\", num_episodes)\n",
    "\n",
    "    return mean_episode_reward"
   ]
  },
  {
   "cell_type": "code",
   "execution_count": 5,
   "metadata": {},
   "outputs": [
    {
     "name": "stdout",
     "output_type": "stream",
     "text": [
      "Mean reward: 23.5 Num episodes: 10\n"
     ]
    }
   ],
   "source": [
    "# Random Agent, before training\n",
    "mean_reward_before_train = evaluate(model, num_episodes=10)"
   ]
  },
  {
   "cell_type": "code",
   "execution_count": null,
   "metadata": {},
   "outputs": [],
   "source": []
  },
  {
   "cell_type": "code",
   "execution_count": 6,
   "metadata": {},
   "outputs": [
    {
     "name": "stdout",
     "output_type": "stream",
     "text": [
      "mean_reward:21.29 +/- 8.90\n"
     ]
    }
   ],
   "source": [
    "from stable_baselines3.common.evaluation import evaluate_policy\n",
    "mean_reward, std_reward = evaluate_policy(model, env, n_eval_episodes=100)\n",
    "\n",
    "print(f\"mean_reward:{mean_reward:.2f} +/- {std_reward:.2f}\")"
   ]
  },
  {
   "cell_type": "code",
   "execution_count": 7,
   "metadata": {},
   "outputs": [
    {
     "data": {
      "text/plain": [
       "<stable_baselines3.ppo.ppo.PPO at 0x7f7a1078fd60>"
      ]
     },
     "execution_count": 7,
     "metadata": {},
     "output_type": "execute_result"
    }
   ],
   "source": [
    "# Train the agent for 10000 steps\n",
    "model.learn(total_timesteps=10000)"
   ]
  },
  {
   "cell_type": "code",
   "execution_count": 8,
   "metadata": {},
   "outputs": [
    {
     "name": "stdout",
     "output_type": "stream",
     "text": [
      "mean_reward:303.79 +/- 116.83\n"
     ]
    }
   ],
   "source": [
    "# Evaluate the trained agent\n",
    "mean_reward, std_reward = evaluate_policy(model, env, n_eval_episodes=100)\n",
    "\n",
    "print(f\"mean_reward:{mean_reward:.2f} +/- {std_reward:.2f}\")"
   ]
  },
  {
   "cell_type": "code",
   "execution_count": 9,
   "metadata": {},
   "outputs": [],
   "source": [
    "# # Set up fake display; otherwise rendering will fail\n",
    "# import os\n",
    "# os.system(\"Xvfb :1 -screen 0 1024x768x24 &\")\n",
    "# os.environ['DISPLAY'] = ':0'"
   ]
  },
  {
   "cell_type": "code",
   "execution_count": 10,
   "metadata": {},
   "outputs": [],
   "source": [
    "import base64\n",
    "from pathlib import Path\n",
    "\n",
    "from IPython import display as ipythondisplay\n",
    "\n",
    "def show_videos(video_path='', prefix=''):\n",
    "    \"\"\"\n",
    "    Taken from https://github.com/eleurent/highway-env\n",
    "\n",
    "    :param video_path: (str) Path to the folder containing videos\n",
    "    :param prefix: (str) Filter the video, showing only the only starting with this prefix\n",
    "    \"\"\"\n",
    "    html = []\n",
    "    for mp4 in Path(video_path).glob(\"{}*.mp4\".format(prefix)):\n",
    "        video_b64 = base64.b64encode(mp4.read_bytes())\n",
    "        html.append('''<video alt=\"{}\" autoplay \n",
    "                    loop controls style=\"height: 400px;\">\n",
    "                    <source src=\"data:video/mp4;base64,{}\" type=\"video/mp4\" />\n",
    "                </video>'''.format(mp4, video_b64.decode('ascii')))\n",
    "    ipythondisplay.display(ipythondisplay.HTML(data=\"<br>\".join(html)))"
   ]
  },
  {
   "cell_type": "code",
   "execution_count": 11,
   "metadata": {},
   "outputs": [],
   "source": [
    "from stable_baselines3.common.vec_env import VecVideoRecorder, DummyVecEnv\n",
    "\n",
    "def record_video(env_id, model, video_length=500, prefix='', video_folder='videos/'):\n",
    "    \"\"\"\n",
    "    :param env_id: (str)\n",
    "    :param model: (RL model)\n",
    "    :param video_length: (int)\n",
    "    :param prefix: (str)\n",
    "    :param videos/o_folder: (str)\n",
    "    \"\"\"\n",
    "    eval_env = DummyVecEnv([lambda: gym.make(env_id)])\n",
    "    # Start the video at step=0 and record 500 steps\n",
    "    eval_env = VecVideoRecorder(eval_env, video_folder=video_folder,\n",
    "                                  record_video_trigger=lambda step: step == 0, video_length=video_length,\n",
    "                                  name_prefix=prefix)\n",
    "\n",
    "    obs = eval_env.reset()\n",
    "    for _ in range(video_length):\n",
    "        action, _ = model.predict(obs)\n",
    "        obs, _, _, _ = eval_env.step(action)\n",
    "\n",
    "    # Close the video recorder\n",
    "    eval_env.close()"
   ]
  },
  {
   "cell_type": "code",
   "execution_count": 12,
   "metadata": {},
   "outputs": [],
   "source": [
    "record_video('CartPole-v1', model, video_length=500, prefix='ppo2-cartpole')"
   ]
  },
  {
   "cell_type": "code",
   "execution_count": 13,
   "metadata": {},
   "outputs": [
    {
     "data": {
      "text/html": [
       "<video alt=\"videos/ppo2-cartpole-step-0-to-step-500.mp4\" autoplay \n",
       "                    loop controls style=\"height: 400px;\">\n",
       "                    <source src=\"data:video/mp4;base64,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\" type=\"video/mp4\" />\n",
       "                </video>"
      ],
      "text/plain": [
       "<IPython.core.display.HTML object>"
      ]
     },
     "metadata": {},
     "output_type": "display_data"
    }
   ],
   "source": [
    "show_videos('videos', prefix='ppo2')"
   ]
  },
  {
   "cell_type": "code",
   "execution_count": null,
   "metadata": {},
   "outputs": [],
   "source": []
  },
  {
   "cell_type": "code",
   "execution_count": null,
   "metadata": {},
   "outputs": [],
   "source": []
  },
  {
   "cell_type": "code",
   "execution_count": null,
   "metadata": {},
   "outputs": [],
   "source": []
  },
  {
   "cell_type": "code",
   "execution_count": null,
   "metadata": {},
   "outputs": [],
   "source": []
  },
  {
   "cell_type": "code",
   "execution_count": null,
   "metadata": {},
   "outputs": [],
   "source": []
  },
  {
   "cell_type": "code",
   "execution_count": 12,
   "metadata": {},
   "outputs": [
    {
     "ename": "NameError",
     "evalue": "name 'DummyVecEnv' is not defined",
     "output_type": "error",
     "traceback": [
      "\u001b[0;31m---------------------------------------------------------------------------\u001b[0m",
      "\u001b[0;31mNameError\u001b[0m                                 Traceback (most recent call last)",
      "\u001b[0;32m<ipython-input-12-8349924ff365>\u001b[0m in \u001b[0;36m<module>\u001b[0;34m\u001b[0m\n\u001b[1;32m     31\u001b[0m \u001b[0;34m\u001b[0m\u001b[0m\n\u001b[1;32m     32\u001b[0m \u001b[0;32mif\u001b[0m \u001b[0m__name__\u001b[0m \u001b[0;34m==\u001b[0m \u001b[0;34m'__main__'\u001b[0m\u001b[0;34m:\u001b[0m\u001b[0;34m\u001b[0m\u001b[0;34m\u001b[0m\u001b[0m\n\u001b[0;32m---> 33\u001b[0;31m     \u001b[0mmain\u001b[0m\u001b[0;34m(\u001b[0m\u001b[0;34m)\u001b[0m\u001b[0;34m\u001b[0m\u001b[0;34m\u001b[0m\u001b[0m\n\u001b[0m",
      "\u001b[0;32m<ipython-input-12-8349924ff365>\u001b[0m in \u001b[0;36mmain\u001b[0;34m()\u001b[0m\n\u001b[1;32m     22\u001b[0m \u001b[0;34m\u001b[0m\u001b[0m\n\u001b[1;32m     23\u001b[0m \u001b[0;32mdef\u001b[0m \u001b[0mmain\u001b[0m\u001b[0;34m(\u001b[0m\u001b[0;34m)\u001b[0m\u001b[0;34m:\u001b[0m\u001b[0;34m\u001b[0m\u001b[0;34m\u001b[0m\u001b[0m\n\u001b[0;32m---> 24\u001b[0;31m     \u001b[0menv\u001b[0m \u001b[0;34m=\u001b[0m \u001b[0mmake_unity_env\u001b[0m\u001b[0;34m(\u001b[0m\u001b[0;34m\"run27_linux\"\u001b[0m\u001b[0;34m,\u001b[0m \u001b[0;36m4\u001b[0m\u001b[0;34m,\u001b[0m \u001b[0;32mFalse\u001b[0m\u001b[0;34m)\u001b[0m\u001b[0;34m\u001b[0m\u001b[0;34m\u001b[0m\u001b[0m\n\u001b[0m\u001b[1;32m     25\u001b[0m     ppo2.learn(\n\u001b[1;32m     26\u001b[0m         \u001b[0mnetwork\u001b[0m\u001b[0;34m=\u001b[0m\u001b[0;34m\"mlp\"\u001b[0m\u001b[0;34m,\u001b[0m\u001b[0;34m\u001b[0m\u001b[0;34m\u001b[0m\u001b[0m\n",
      "\u001b[0;32m<ipython-input-12-8349924ff365>\u001b[0m in \u001b[0;36mmake_unity_env\u001b[0;34m(env_directory, num_env, visual, start_index)\u001b[0m\n\u001b[1;32m     19\u001b[0m     \u001b[0;32melse\u001b[0m\u001b[0;34m:\u001b[0m\u001b[0;34m\u001b[0m\u001b[0;34m\u001b[0m\u001b[0m\n\u001b[1;32m     20\u001b[0m         \u001b[0mrank\u001b[0m \u001b[0;34m=\u001b[0m \u001b[0mMPI\u001b[0m\u001b[0;34m.\u001b[0m\u001b[0mCOMM_WORLD\u001b[0m\u001b[0;34m.\u001b[0m\u001b[0mGet_rank\u001b[0m\u001b[0;34m(\u001b[0m\u001b[0;34m)\u001b[0m \u001b[0;32mif\u001b[0m \u001b[0mMPI\u001b[0m \u001b[0;32melse\u001b[0m \u001b[0;36m0\u001b[0m\u001b[0;34m\u001b[0m\u001b[0;34m\u001b[0m\u001b[0m\n\u001b[0;32m---> 21\u001b[0;31m         \u001b[0;32mreturn\u001b[0m \u001b[0mDummyVecEnv\u001b[0m\u001b[0;34m(\u001b[0m\u001b[0;34m[\u001b[0m\u001b[0mmake_env\u001b[0m\u001b[0;34m(\u001b[0m\u001b[0mrank\u001b[0m\u001b[0;34m,\u001b[0m \u001b[0muse_visual\u001b[0m\u001b[0;34m=\u001b[0m\u001b[0;32mFalse\u001b[0m\u001b[0;34m)\u001b[0m\u001b[0;34m]\u001b[0m\u001b[0;34m)\u001b[0m\u001b[0;34m\u001b[0m\u001b[0;34m\u001b[0m\u001b[0m\n\u001b[0m\u001b[1;32m     22\u001b[0m \u001b[0;34m\u001b[0m\u001b[0m\n\u001b[1;32m     23\u001b[0m \u001b[0;32mdef\u001b[0m \u001b[0mmain\u001b[0m\u001b[0;34m(\u001b[0m\u001b[0;34m)\u001b[0m\u001b[0;34m:\u001b[0m\u001b[0;34m\u001b[0m\u001b[0;34m\u001b[0m\u001b[0m\n",
      "\u001b[0;31mNameError\u001b[0m: name 'DummyVecEnv' is not defined"
     ]
    }
   ],
   "source": [
    "try:\n",
    "    from mpi4py import MPI\n",
    "except ImportError:\n",
    "    MPI = None\n",
    "\n",
    "def make_unity_env(env_directory, num_env, visual, start_index=0):\n",
    "    \"\"\"\n",
    "    Create a wrapped, monitored Unity environment.\n",
    "    \"\"\"\n",
    "    def make_env(rank, use_visual=True): # pylint: disable=C0111\n",
    "        def _thunk():\n",
    "            unity_env = UnityEnvironment(env_directory, base_port=5000 + rank)\n",
    "            env = UnityToGymWrapper(unity_env, uint8_visual=True)\n",
    "            env = Monitor(env)\n",
    "            return env\n",
    "        return _thunk\n",
    "    if visual:\n",
    "        return SubprocVecEnv([make_env(i + start_index) for i in range(num_env)])\n",
    "    else:\n",
    "        rank = MPI.COMM_WORLD.Get_rank() if MPI else 0\n",
    "        return DummyVecEnv([make_env(rank, use_visual=False)])\n",
    "\n",
    "def main():\n",
    "    env = make_unity_env(\"run27_linux\", 4, False)\n",
    "    ppo2.learn(\n",
    "        network=\"mlp\",\n",
    "        env=env,\n",
    "        total_timesteps=100000,\n",
    "        lr=1e-3,\n",
    "    )\n",
    "\n",
    "if __name__ == '__main__':\n",
    "    main()"
   ]
  },
  {
   "cell_type": "code",
   "execution_count": null,
   "metadata": {},
   "outputs": [],
   "source": [
    "env = gym.make('CartPole-v0')\n",
    "env = UnityToGymWrapper(unity_env, uint8_visual, flatten_branched, allow_multiple_obs)\n",
    "\n",
    "states = env.observation_space.shape[0]\n",
    "actions = env.action_space.n"
   ]
  },
  {
   "cell_type": "code",
   "execution_count": 6,
   "metadata": {},
   "outputs": [
    {
     "data": {
      "text/plain": [
       "2"
      ]
     },
     "execution_count": 6,
     "metadata": {},
     "output_type": "execute_result"
    }
   ],
   "source": [
    "actions"
   ]
  },
  {
   "cell_type": "code",
   "execution_count": 7,
   "metadata": {},
   "outputs": [
    {
     "name": "stdout",
     "output_type": "stream",
     "text": [
      "Episode:1 Score:19.0\n",
      "Episode:2 Score:15.0\n",
      "Episode:3 Score:12.0\n",
      "Episode:4 Score:11.0\n",
      "Episode:5 Score:67.0\n",
      "Episode:6 Score:35.0\n",
      "Episode:7 Score:29.0\n",
      "Episode:8 Score:13.0\n",
      "Episode:9 Score:15.0\n",
      "Episode:10 Score:17.0\n"
     ]
    }
   ],
   "source": [
    "episodes = 10\n",
    "for episode in range(1, episodes+1):\n",
    "    state = env.reset()\n",
    "    done = False\n",
    "    score = 0 \n",
    "    \n",
    "    while not done:\n",
    "        env.render()\n",
    "        action = random.choice([0,1])\n",
    "        n_state, reward, done, info = env.step(action)\n",
    "        score+=reward\n",
    "    print('Episode:{} Score:{}'.format(episode, score))"
   ]
  },
  {
   "cell_type": "markdown",
   "metadata": {},
   "source": [
    "# 2. Create a Deep Learning Model with Keras"
   ]
  },
  {
   "cell_type": "code",
   "execution_count": 8,
   "metadata": {},
   "outputs": [],
   "source": [
    "import numpy as np\n",
    "from tensorflow.keras.models import Sequential\n",
    "from tensorflow.keras.layers import Dense, Flatten\n",
    "from tensorflow.keras.optimizers import Adam"
   ]
  },
  {
   "cell_type": "code",
   "execution_count": 9,
   "metadata": {},
   "outputs": [],
   "source": [
    "def build_model(states, actions):\n",
    "    model = Sequential()\n",
    "    model.add(Flatten(input_shape=(1,states)))\n",
    "    model.add(Dense(24, activation='relu'))\n",
    "    model.add(Dense(24, activation='relu'))\n",
    "    model.add(Dense(actions, activation='linear'))\n",
    "    return model"
   ]
  },
  {
   "cell_type": "code",
   "execution_count": 10,
   "metadata": {},
   "outputs": [],
   "source": [
    "model = build_model(states, actions)"
   ]
  },
  {
   "cell_type": "code",
   "execution_count": 11,
   "metadata": {},
   "outputs": [
    {
     "name": "stdout",
     "output_type": "stream",
     "text": [
      "Model: \"sequential\"\n",
      "_________________________________________________________________\n",
      "Layer (type)                 Output Shape              Param #   \n",
      "=================================================================\n",
      "flatten (Flatten)            (None, 4)                 0         \n",
      "_________________________________________________________________\n",
      "dense (Dense)                (None, 24)                120       \n",
      "_________________________________________________________________\n",
      "dense_1 (Dense)              (None, 24)                600       \n",
      "_________________________________________________________________\n",
      "dense_2 (Dense)              (None, 2)                 50        \n",
      "=================================================================\n",
      "Total params: 770\n",
      "Trainable params: 770\n",
      "Non-trainable params: 0\n",
      "_________________________________________________________________\n"
     ]
    }
   ],
   "source": [
    "model.summary()"
   ]
  },
  {
   "cell_type": "markdown",
   "metadata": {},
   "source": [
    "# 3. Build Agent with Keras-RL"
   ]
  },
  {
   "cell_type": "code",
   "execution_count": 12,
   "metadata": {},
   "outputs": [],
   "source": [
    "from rl.agents import DQNAgent\n",
    "from rl.policy import BoltzmannQPolicy\n",
    "from rl.memory import SequentialMemory"
   ]
  },
  {
   "cell_type": "code",
   "execution_count": 13,
   "metadata": {},
   "outputs": [],
   "source": [
    "def build_agent(model, actions):\n",
    "    policy = BoltzmannQPolicy()\n",
    "    memory = SequentialMemory(limit=50000, window_length=1)\n",
    "    dqn = DQNAgent(model=model, memory=memory, policy=policy, \n",
    "                  nb_actions=actions, nb_steps_warmup=10, target_model_update=1e-2)\n",
    "    return dqn"
   ]
  },
  {
   "cell_type": "code",
   "execution_count": 21,
   "metadata": {},
   "outputs": [
    {
     "name": "stdout",
     "output_type": "stream",
     "text": [
      "Training for 50000 steps ...\n",
      "Interval 1 (0 steps performed)\n",
      "10000/10000 [==============================] - 112s 11ms/step - reward: 1.0000\n",
      "105 episodes - episode_reward: 93.733 [9.000, 200.000] - loss: 2.209 - mae: 18.578 - mean_q: 37.607\n",
      "\n",
      "Interval 2 (10000 steps performed)\n",
      "10000/10000 [==============================] - 110s 11ms/step - reward: 1.0000\n",
      "52 episodes - episode_reward: 194.827 [161.000, 200.000] - loss: 5.109 - mae: 38.310 - mean_q: 77.438\n",
      "\n",
      "Interval 3 (20000 steps performed)\n",
      "10000/10000 [==============================] - 106s 11ms/step - reward: 1.0000\n",
      "50 episodes - episode_reward: 196.800 [173.000, 200.000] - loss: 4.735 - mae: 41.417 - mean_q: 83.492\n",
      "\n",
      "Interval 4 (30000 steps performed)\n",
      "10000/10000 [==============================] - 114s 11ms/step - reward: 1.0000\n",
      "51 episodes - episode_reward: 199.745 [187.000, 200.000] - loss: 6.391 - mae: 40.217 - mean_q: 80.806\n",
      "\n",
      "Interval 5 (40000 steps performed)\n",
      "10000/10000 [==============================] - 114s 11ms/step - reward: 1.0000\n",
      "done, took 556.490 seconds\n"
     ]
    },
    {
     "data": {
      "text/plain": [
       "<tensorflow.python.keras.callbacks.History at 0x7f10a460a790>"
      ]
     },
     "execution_count": 21,
     "metadata": {},
     "output_type": "execute_result"
    }
   ],
   "source": [
    "del model\n",
    "model = build_model(states, actions)\n",
    "dqn = build_agent(model, actions)\n",
    "dqn.compile(Adam(lr=1e-3), metrics=['mae'])\n",
    "dqn.fit(env, nb_steps=50000, visualize=False, verbose=1)"
   ]
  },
  {
   "cell_type": "code",
   "execution_count": 23,
   "metadata": {},
   "outputs": [
    {
     "name": "stdout",
     "output_type": "stream",
     "text": [
      "Testing for 10 episodes ...\n",
      "Episode 1: reward: 200.000, steps: 200\n",
      "Episode 2: reward: 200.000, steps: 200\n",
      "Episode 3: reward: 200.000, steps: 200\n",
      "Episode 4: reward: 200.000, steps: 200\n",
      "Episode 5: reward: 200.000, steps: 200\n",
      "Episode 6: reward: 200.000, steps: 200\n",
      "Episode 7: reward: 200.000, steps: 200\n",
      "Episode 8: reward: 200.000, steps: 200\n",
      "Episode 9: reward: 200.000, steps: 200\n",
      "Episode 10: reward: 200.000, steps: 200\n",
      "200.0\n"
     ]
    }
   ],
   "source": [
    "scores = dqn.test(env, nb_episodes=10, visualize=False)\n",
    "print(np.mean(scores.history['episode_reward']))"
   ]
  },
  {
   "cell_type": "markdown",
   "metadata": {},
   "source": [
    "# 4. Reloading Agent from Memory"
   ]
  },
  {
   "cell_type": "code",
   "execution_count": 25,
   "metadata": {},
   "outputs": [],
   "source": [
    "dqn.save_weights('dqn_weights.h5f', overwrite=True)"
   ]
  },
  {
   "cell_type": "code",
   "execution_count": 26,
   "metadata": {},
   "outputs": [],
   "source": [
    "del model\n",
    "del dqn\n",
    "del env"
   ]
  },
  {
   "cell_type": "code",
   "execution_count": 27,
   "metadata": {},
   "outputs": [],
   "source": [
    "env = gym.make('CartPole-v0')\n",
    "actions = env.action_space.n\n",
    "states = env.observation_space.shape[0]\n",
    "model = build_model(states, actions)\n",
    "dqn = build_agent(model, actions)\n",
    "dqn.compile(Adam(lr=1e-3), metrics=['mae'])"
   ]
  },
  {
   "cell_type": "code",
   "execution_count": 28,
   "metadata": {},
   "outputs": [],
   "source": [
    "dqn.load_weights('dqn_weights.h5f')"
   ]
  },
  {
   "cell_type": "code",
   "execution_count": 29,
   "metadata": {},
   "outputs": [
    {
     "name": "stdout",
     "output_type": "stream",
     "text": [
      "Testing for 5 episodes ...\n",
      "Episode 1: reward: 200.000, steps: 200\n",
      "Episode 2: reward: 200.000, steps: 200\n",
      "Episode 3: reward: 200.000, steps: 200\n",
      "Episode 4: reward: 200.000, steps: 200\n",
      "Episode 5: reward: 200.000, steps: 200\n"
     ]
    }
   ],
   "source": [
    "_ = dqn.test(env, nb_episodes=5, visualize=True)"
   ]
  },
  {
   "cell_type": "code",
   "execution_count": null,
   "metadata": {},
   "outputs": [],
   "source": []
  }
 ],
 "metadata": {
  "kernelspec": {
   "display_name": "Python 3",
   "language": "python",
   "name": "python3"
  },
  "language_info": {
   "codemirror_mode": {
    "name": "ipython",
    "version": 3
   },
   "file_extension": ".py",
   "mimetype": "text/x-python",
   "name": "python",
   "nbconvert_exporter": "python",
   "pygments_lexer": "ipython3",
   "version": "3.8.5"
  }
 },
 "nbformat": 4,
 "nbformat_minor": 2
}
