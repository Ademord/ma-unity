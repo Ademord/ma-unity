{
 "cells": [
  {
   "cell_type": "code",
   "execution_count": 39,
   "metadata": {},
   "outputs": [
    {
     "name": "stdout",
     "output_type": "stream",
     "text": [
      "3.8.5\n"
     ]
    }
   ],
   "source": [
    "import platform\n",
    "print(platform.python_version())\n"
   ]
  },
  {
   "cell_type": "code",
   "execution_count": 40,
   "metadata": {},
   "outputs": [
    {
     "name": "stdout",
     "output_type": "stream",
     "text": [
      "ml-agents already installed\n"
     ]
    }
   ],
   "source": [
    "try:\n",
    "    import mlagents\n",
    "    from mlagents_envs.environment import UnityEnvironment as UE\n",
    "    print(\"ml-agents already installed\")\n",
    "except ImportError:\n",
    "    !pip install -q mlagents==0.26.0\n",
    "    print(\"Installed ml-agents\")"
   ]
  },
  {
   "cell_type": "code",
   "execution_count": 41,
   "metadata": {},
   "outputs": [],
   "source": [
    "# -----------------\n",
    "# This code is used to close an env that might not have been closed before\n",
    "try:\n",
    "    env.close()\n",
    "except:\n",
    "    pass\n",
    "# -----------------"
   ]
  },
  {
   "cell_type": "code",
   "execution_count": 42,
   "metadata": {},
   "outputs": [],
   "source": [
    "env = UE(file_name='run27_linux', seed=1, side_channels=[])"
   ]
  },
  {
   "cell_type": "code",
   "execution_count": 43,
   "metadata": {},
   "outputs": [],
   "source": [
    "env.reset()"
   ]
  },
  {
   "cell_type": "code",
   "execution_count": 44,
   "metadata": {},
   "outputs": [
    {
     "name": "stdout",
     "output_type": "stream",
     "text": [
      "Name of the behavior : Hummingbird?team=0\n"
     ]
    }
   ],
   "source": [
    "behavior_name = list(env.behavior_specs)[0]\n",
    "print(f\"Name of the behavior : {behavior_name}\")\n",
    "spec = env.behavior_specs[behavior_name]"
   ]
  },
  {
   "cell_type": "code",
   "execution_count": 45,
   "metadata": {},
   "outputs": [
    {
     "data": {
      "text/plain": [
       "BehaviorSpec(observation_specs=[ObservationSpec(shape=(4,), dimension_property=(<DimensionProperty.NONE: 1>,), observation_type=<ObservationType.DEFAULT: 0>, name='RayDown'), ObservationSpec(shape=(52,), dimension_property=(<DimensionProperty.NONE: 1>,), observation_type=<ObservationType.DEFAULT: 0>, name='RayPerceptionSensor'), ObservationSpec(shape=(28,), dimension_property=(<DimensionProperty.NONE: 1>,), observation_type=<ObservationType.DEFAULT: 0>, name='RaysForward'), ObservationSpec(shape=(4,), dimension_property=(<DimensionProperty.NONE: 1>,), observation_type=<ObservationType.DEFAULT: 0>, name='RayUp'), ObservationSpec(shape=(3,), dimension_property=(<DimensionProperty.NONE: 1>,), observation_type=<ObservationType.DEFAULT: 0>, name='StackingSensor_size3_VectorSensor_size1')], action_spec=ActionSpec(continuous_size=0, discrete_branches=(3, 3, 3)))"
      ]
     },
     "execution_count": 45,
     "metadata": {},
     "output_type": "execute_result"
    }
   ],
   "source": [
    "spec"
   ]
  },
  {
   "cell_type": "code",
   "execution_count": 46,
   "metadata": {},
   "outputs": [
    {
     "name": "stdout",
     "output_type": "stream",
     "text": [
      "Number of observations :  5\n"
     ]
    }
   ],
   "source": [
    "print(\"Number of observations : \", len(spec.observation_specs))"
   ]
  },
  {
   "cell_type": "code",
   "execution_count": 47,
   "metadata": {},
   "outputs": [
    {
     "name": "stdout",
     "output_type": "stream",
     "text": [
      "Is there a visual observation ? False\n"
     ]
    }
   ],
   "source": [
    "# Is there a visual observation ?\n",
    "# Visual observation have 3 dimensions: Height, Width and number of channels\n",
    "vis_obs = any(len(spec.shape) == 3 for spec in spec.observation_specs)\n",
    "print(\"Is there a visual observation ?\", vis_obs)"
   ]
  },
  {
   "cell_type": "code",
   "execution_count": 48,
   "metadata": {},
   "outputs": [
    {
     "name": "stdout",
     "output_type": "stream",
     "text": [
      "There are 3 discrete actions\n",
      "Action number 0 has 3 different options\n",
      "Action number 1 has 3 different options\n",
      "Action number 2 has 3 different options\n"
     ]
    }
   ],
   "source": [
    "# Is the Action continuous or multi-discrete ?\n",
    "if spec.action_spec.continuous_size > 0:\n",
    "    print(f\"There are {spec.action_spec.continuous_size} continuous actions\")\n",
    "if spec.action_spec.is_discrete():\n",
    "    print(f\"There are {spec.action_spec.discrete_size} discrete actions\")\n",
    "\n",
    "\n",
    "# How many actions are possible ?\n",
    "#print(f\"There are {spec.action_size} action(s)\")\n",
    "\n",
    "# For discrete actions only : How many different options does each action has ?\n",
    "if spec.action_spec.discrete_size > 0:\n",
    "    for action, branch_size in enumerate(spec.action_spec.discrete_branches):\n",
    "        print(f\"Action number {action} has {branch_size} different options\")\n",
    "    \n"
   ]
  },
  {
   "cell_type": "code",
   "execution_count": 49,
   "metadata": {},
   "outputs": [],
   "source": [
    "decision_steps, terminal_steps = env.get_steps(behavior_name)"
   ]
  },
  {
   "cell_type": "code",
   "execution_count": 50,
   "metadata": {},
   "outputs": [],
   "source": [
    "env.set_actions(behavior_name, spec.action_spec.empty_action(len(decision_steps)))"
   ]
  },
  {
   "cell_type": "code",
   "execution_count": 71,
   "metadata": {},
   "outputs": [],
   "source": [
    "env.step()"
   ]
  },
  {
   "cell_type": "code",
   "execution_count": 52,
   "metadata": {},
   "outputs": [
    {
     "name": "stdout",
     "output_type": "stream",
     "text": [
      "First vector observations :  [0.         0.         0.         0.03944738]\n",
      "First vector observations :  [0.         1.         0.         0.20423949 0.         1.\n",
      " 0.         0.20863327 0.         1.         0.         0.20846266\n",
      " 0.         1.         0.         0.222621   0.         1.\n",
      " 0.         0.22224079 0.         1.         0.         0.24967669\n",
      " 0.         1.         0.         0.24898499 0.         1.\n",
      " 0.         0.2802666  0.         1.         0.         0.28131625\n",
      " 0.         1.         0.         0.23967367 0.         1.\n",
      " 0.         0.24026023 0.         1.         0.         0.2171906\n",
      " 0.         1.         0.         0.21750405]\n",
      "First vector observations :  [0.         0.         0.         0.10212053 0.         0.\n",
      " 0.         0.10875282 0.         0.         0.         0.10859609\n",
      " 0.         0.         0.         0.13353087 0.         0.\n",
      " 0.         0.13308765 0.         0.         0.         0.11893507\n",
      " 0.         0.         0.         0.11921204]\n",
      "First vector observations :  [0.         0.         0.         0.05514997]\n",
      "First vector observations :  [0. 0. 0.]\n"
     ]
    }
   ],
   "source": [
    "import matplotlib.pyplot as plt\n",
    "%matplotlib inline\n",
    "\n",
    "for index, obs_spec in enumerate(spec.observation_specs):\n",
    "    if len(obs_spec.shape) == 3:\n",
    "        print(\"Here is the first visual observation\")\n",
    "        plt.imshow(decision_steps.obs[index][0,:,:,:])\n",
    "        plt.show()\n",
    "\n",
    "for index, obs_spec in enumerate(spec.observation_specs):\n",
    "    if len(obs_spec.shape) == 1:\n",
    "        print(\"First vector observations : \", decision_steps.obs[index][0,:])"
   ]
  },
  {
   "cell_type": "code",
   "execution_count": 63,
   "metadata": {},
   "outputs": [
    {
     "data": {
      "text/plain": [
       "5"
      ]
     },
     "execution_count": 63,
     "metadata": {},
     "output_type": "execute_result"
    }
   ],
   "source": [
    "len(decision_steps.obs)"
   ]
  },
  {
   "cell_type": "code",
   "execution_count": 72,
   "metadata": {},
   "outputs": [
    {
     "data": {
      "text/plain": [
       "[array([[0.        , 0.        , 0.        , 0.03944738]], dtype=float32),\n",
       " array([[0.        , 1.        , 0.        , 0.20423949, 0.        ,\n",
       "         1.        , 0.        , 0.20863327, 0.        , 1.        ,\n",
       "         0.        , 0.20846266, 0.        , 1.        , 0.        ,\n",
       "         0.222621  , 0.        , 1.        , 0.        , 0.22224079,\n",
       "         0.        , 1.        , 0.        , 0.24967669, 0.        ,\n",
       "         1.        , 0.        , 0.24898499, 0.        , 1.        ,\n",
       "         0.        , 0.2802666 , 0.        , 1.        , 0.        ,\n",
       "         0.28131625, 0.        , 1.        , 0.        , 0.23967367,\n",
       "         0.        , 1.        , 0.        , 0.24026023, 0.        ,\n",
       "         1.        , 0.        , 0.2171906 , 0.        , 1.        ,\n",
       "         0.        , 0.21750405]], dtype=float32),\n",
       " array([[0.        , 0.        , 0.        , 0.10212053, 0.        ,\n",
       "         0.        , 0.        , 0.10875282, 0.        , 0.        ,\n",
       "         0.        , 0.10859609, 0.        , 0.        , 0.        ,\n",
       "         0.13353087, 0.        , 0.        , 0.        , 0.13308765,\n",
       "         0.        , 0.        , 0.        , 0.11893507, 0.        ,\n",
       "         0.        , 0.        , 0.11921204]], dtype=float32),\n",
       " array([[0.        , 0.        , 0.        , 0.05514997]], dtype=float32),\n",
       " array([[0., 0., 0.]], dtype=float32)]"
      ]
     },
     "execution_count": 72,
     "metadata": {},
     "output_type": "execute_result"
    }
   ],
   "source": [
    "decision_steps.obs"
   ]
  },
  {
   "cell_type": "code",
   "execution_count": 73,
   "metadata": {},
   "outputs": [
    {
     "name": "stdout",
     "output_type": "stream",
     "text": [
      "4\n",
      "52\n",
      "28\n",
      "4\n",
      "3\n"
     ]
    }
   ],
   "source": [
    "for obs in decision_steps.obs:\n",
    "    print(len(obs[0]))"
   ]
  },
  {
   "cell_type": "code",
   "execution_count": 60,
   "metadata": {},
   "outputs": [
    {
     "data": {
      "text/plain": [
       "array([[1, 0, 0]], dtype=int32)"
      ]
     },
     "execution_count": 60,
     "metadata": {},
     "output_type": "execute_result"
    }
   ],
   "source": [
    "action = spec.action_spec.random_action(len(decision_steps))\n",
    "action.discrete"
   ]
  },
  {
   "cell_type": "code",
   "execution_count": 37,
   "metadata": {},
   "outputs": [
    {
     "name": "stdout",
     "output_type": "stream",
     "text": [
      "Total rewards for episode 0 is 66.9999960064888\n"
     ]
    }
   ],
   "source": [
    "for episode in range(1):\n",
    "    env.reset()\n",
    "    decision_steps, terminal_steps = env.get_steps(behavior_name)\n",
    "    tracked_agent = -1 # -1 indicates not yet tracking\n",
    "    done = False # For the tracked_agent\n",
    "    episode_rewards = 0 # For the tracked_agent\n",
    "    while not done:\n",
    "        # Track the first agent we see if not tracking \n",
    "        # Note : len(decision_steps) = [number of agents that requested a decision]\n",
    "        if tracked_agent == -1 and len(decision_steps) >= 1:\n",
    "            tracked_agent = decision_steps.agent_id[0] \n",
    "\n",
    "        # Generate an action for all agents\n",
    "        action = spec.action_spec.random_action(len(decision_steps))\n",
    "\n",
    "        # Set the actions\n",
    "        env.set_actions(behavior_name, action)\n",
    "\n",
    "        # Move the simulation forward\n",
    "        env.step()\n",
    "\n",
    "        # Get the new simulation results\n",
    "        decision_steps, terminal_steps = env.get_steps(behavior_name)\n",
    "        if tracked_agent in decision_steps: # The agent requested a decision\n",
    "            episode_rewards += decision_steps[tracked_agent].reward\n",
    "        if tracked_agent in terminal_steps: # The agent terminated its episode\n",
    "            episode_rewards += terminal_steps[tracked_agent].reward\n",
    "            done = True\n",
    "    print(f\"Total rewards for episode {episode} is {episode_rewards}\")"
   ]
  },
  {
   "cell_type": "code",
   "execution_count": 38,
   "metadata": {},
   "outputs": [
    {
     "name": "stdout",
     "output_type": "stream",
     "text": [
      "Closed environment\n"
     ]
    }
   ],
   "source": [
    "env.close()\n",
    "print(\"Closed environment\")"
   ]
  },
  {
   "cell_type": "code",
   "execution_count": null,
   "metadata": {},
   "outputs": [],
   "source": []
  }
 ],
 "metadata": {
  "kernelspec": {
   "display_name": "Python 3",
   "language": "python",
   "name": "python3"
  },
  "language_info": {
   "codemirror_mode": {
    "name": "ipython",
    "version": 3
   },
   "file_extension": ".py",
   "mimetype": "text/x-python",
   "name": "python",
   "nbconvert_exporter": "python",
   "pygments_lexer": "ipython3",
   "version": "3.8.5"
  }
 },
 "nbformat": 4,
 "nbformat_minor": 4
}
