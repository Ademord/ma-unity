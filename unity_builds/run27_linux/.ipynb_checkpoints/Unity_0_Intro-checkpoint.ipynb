{
 "cells": [
  {
   "cell_type": "code",
   "execution_count": 4,
   "metadata": {},
   "outputs": [
    {
     "name": "stdout",
     "output_type": "stream",
     "text": [
      "3.8.5\n"
     ]
    }
   ],
   "source": [
    "import platform\n",
    "print(platform.python_version())\n"
   ]
  },
  {
   "cell_type": "code",
   "execution_count": 6,
   "metadata": {},
   "outputs": [
    {
     "name": "stdout",
     "output_type": "stream",
     "text": [
      "Collecting mlagents==0.26.0\n",
      "  Downloading mlagents-0.26.0-py3-none-any.whl (160 kB)\n",
      "\u001b[K     |████████████████████████████████| 160 kB 4.7 MB/s eta 0:00:01\n",
      "\u001b[?25hRequirement already satisfied: h5py>=2.9.0 in /usr/local/lib/python3.8/dist-packages (from mlagents==0.26.0) (2.10.0)\n",
      "Requirement already satisfied: grpcio>=1.11.0 in /usr/local/lib/python3.8/dist-packages (from mlagents==0.26.0) (1.33.2)\n",
      "Requirement already satisfied: Pillow>=4.2.1 in /usr/local/lib/python3.8/dist-packages (from mlagents==0.26.0) (8.0.1)\n",
      "Collecting cattrs>=1.1.0; python_version >= \"3.8\"\n",
      "  Downloading cattrs-1.6.0-py3-none-any.whl (22 kB)\n",
      "Collecting mlagents-envs==0.26.0\n",
      "  Downloading mlagents_envs-0.26.0-py3-none-any.whl (75 kB)\n",
      "\u001b[K     |████████████████████████████████| 75 kB 304 kB/s eta 0:00:011\n",
      "\u001b[?25hRequirement already satisfied: tensorboard>=1.15 in /usr/local/lib/python3.8/dist-packages (from mlagents==0.26.0) (2.3.0)\n",
      "Requirement already satisfied: pyyaml>=3.1.0 in /usr/local/lib/python3.8/dist-packages (from mlagents==0.26.0) (5.1)\n",
      "Requirement already satisfied: attrs>=19.3.0 in /usr/lib/python3/dist-packages (from mlagents==0.26.0) (19.3.0)\n",
      "Requirement already satisfied: protobuf>=3.6 in /usr/local/lib/python3.8/dist-packages (from mlagents==0.26.0) (3.13.0)\n",
      "Collecting torch<1.9.0,>=1.6.0; platform_system != \"Windows\" and python_version < \"3.9\"\n",
      "  Downloading torch-1.8.1-cp38-cp38-manylinux1_x86_64.whl (804.1 MB)\n",
      "\u001b[K     |██████████████████████████████▉ | 774.6 MB 85.5 MB/s eta 0:00:01"
     ]
    },
    {
     "name": "stderr",
     "output_type": "stream",
     "text": [
      "IOPub data rate exceeded.\n",
      "The notebook server will temporarily stop sending output\n",
      "to the client in order to avoid crashing it.\n",
      "To change this limit, set the config variable\n",
      "`--NotebookApp.iopub_data_rate_limit`.\n",
      "\n",
      "Current values:\n",
      "NotebookApp.iopub_data_rate_limit=1000000.0 (bytes/sec)\n",
      "NotebookApp.rate_limit_window=3.0 (secs)\n",
      "\n"
     ]
    },
    {
     "name": "stdout",
     "output_type": "stream",
     "text": [
      "\u001b[K     |████████████████████████████████| 804.1 MB 4.3 kB/s \n",
      "\u001b[?25hRequirement already satisfied: numpy<2.0,>=1.13.3 in /usr/lib/python3/dist-packages (from mlagents==0.26.0) (1.17.4)\n",
      "Requirement already satisfied: six in /usr/local/lib/python3.8/dist-packages (from h5py>=2.9.0->mlagents==0.26.0) (1.15.0)\n",
      "Requirement already satisfied: cloudpickle in /usr/local/lib/python3.8/dist-packages (from mlagents-envs==0.26.0->mlagents==0.26.0) (1.6.0)\n",
      "Requirement already satisfied: werkzeug>=0.11.15 in /usr/local/lib/python3.8/dist-packages (from tensorboard>=1.15->mlagents==0.26.0) (1.0.1)\n",
      "Requirement already satisfied: setuptools>=41.0.0 in /usr/lib/python3/dist-packages (from tensorboard>=1.15->mlagents==0.26.0) (45.2.0)\n",
      "Requirement already satisfied: requests<3,>=2.21.0 in /usr/local/lib/python3.8/dist-packages (from tensorboard>=1.15->mlagents==0.26.0) (2.24.0)\n",
      "Requirement already satisfied: wheel>=0.26; python_version >= \"3\" in /usr/lib/python3/dist-packages (from tensorboard>=1.15->mlagents==0.26.0) (0.34.2)\n",
      "Requirement already satisfied: absl-py>=0.4 in /usr/local/lib/python3.8/dist-packages (from tensorboard>=1.15->mlagents==0.26.0) (0.11.0)\n",
      "Requirement already satisfied: tensorboard-plugin-wit>=1.6.0 in /usr/local/lib/python3.8/dist-packages (from tensorboard>=1.15->mlagents==0.26.0) (1.7.0)\n",
      "Requirement already satisfied: markdown>=2.6.8 in /usr/local/lib/python3.8/dist-packages (from tensorboard>=1.15->mlagents==0.26.0) (3.3.3)\n",
      "Requirement already satisfied: google-auth<2,>=1.6.3 in /usr/local/lib/python3.8/dist-packages (from tensorboard>=1.15->mlagents==0.26.0) (1.22.1)\n",
      "Requirement already satisfied: google-auth-oauthlib<0.5,>=0.4.1 in /usr/local/lib/python3.8/dist-packages (from tensorboard>=1.15->mlagents==0.26.0) (0.4.2)\n",
      "Collecting typing-extensions\n",
      "  Downloading typing_extensions-3.10.0.0-py3-none-any.whl (26 kB)\n",
      "Requirement already satisfied: urllib3!=1.25.0,!=1.25.1,<1.26,>=1.21.1 in /usr/local/lib/python3.8/dist-packages (from requests<3,>=2.21.0->tensorboard>=1.15->mlagents==0.26.0) (1.25.11)\n",
      "Requirement already satisfied: idna<3,>=2.5 in /usr/lib/python3/dist-packages (from requests<3,>=2.21.0->tensorboard>=1.15->mlagents==0.26.0) (2.8)\n",
      "Requirement already satisfied: chardet<4,>=3.0.2 in /usr/local/lib/python3.8/dist-packages (from requests<3,>=2.21.0->tensorboard>=1.15->mlagents==0.26.0) (3.0.4)\n",
      "Requirement already satisfied: certifi>=2017.4.17 in /usr/local/lib/python3.8/dist-packages (from requests<3,>=2.21.0->tensorboard>=1.15->mlagents==0.26.0) (2020.6.20)\n",
      "Requirement already satisfied: rsa<5,>=3.1.4; python_version >= \"3.5\" in /usr/local/lib/python3.8/dist-packages (from google-auth<2,>=1.6.3->tensorboard>=1.15->mlagents==0.26.0) (4.6)\n",
      "Requirement already satisfied: pyasn1-modules>=0.2.1 in /usr/lib/python3/dist-packages (from google-auth<2,>=1.6.3->tensorboard>=1.15->mlagents==0.26.0) (0.2.1)\n",
      "Requirement already satisfied: cachetools<5.0,>=2.0.0 in /usr/local/lib/python3.8/dist-packages (from google-auth<2,>=1.6.3->tensorboard>=1.15->mlagents==0.26.0) (4.1.1)\n",
      "Requirement already satisfied: requests-oauthlib>=0.7.0 in /usr/local/lib/python3.8/dist-packages (from google-auth-oauthlib<0.5,>=0.4.1->tensorboard>=1.15->mlagents==0.26.0) (1.3.0)\n",
      "Requirement already satisfied: pyasn1>=0.1.3 in /usr/lib/python3/dist-packages (from rsa<5,>=3.1.4; python_version >= \"3.5\"->google-auth<2,>=1.6.3->tensorboard>=1.15->mlagents==0.26.0) (0.4.2)\n",
      "Requirement already satisfied: oauthlib>=3.0.0 in /usr/local/lib/python3.8/dist-packages (from requests-oauthlib>=0.7.0->google-auth-oauthlib<0.5,>=0.4.1->tensorboard>=1.15->mlagents==0.26.0) (3.1.0)\n",
      "\u001b[31mERROR: torchvision 0.6.0+cu101 has requirement torch==1.5.0, but you'll have torch 1.8.1 which is incompatible.\u001b[0m\n",
      "Installing collected packages: cattrs, mlagents-envs, typing-extensions, torch, mlagents\n",
      "  Attempting uninstall: torch\n",
      "    Found existing installation: torch 1.5.0+cu101\n",
      "    Uninstalling torch-1.5.0+cu101:\n",
      "      Successfully uninstalled torch-1.5.0+cu101\n",
      "Successfully installed cattrs-1.6.0 mlagents-0.26.0 mlagents-envs-0.26.0 torch-1.8.1 typing-extensions-3.10.0.0\n"
     ]
    }
   ],
   "source": [
    "!pip install mlagents==0.26.0"
   ]
  },
  {
   "cell_type": "code",
   "execution_count": 7,
   "metadata": {},
   "outputs": [],
   "source": [
    "import mlagents\n",
    "from mlagents_envs.environment import UnityEnvironment as UE"
   ]
  },
  {
   "cell_type": "code",
   "execution_count": 8,
   "metadata": {},
   "outputs": [],
   "source": [
    "env = UE(file_name='run27_linux', seed=1, side_channels=[])"
   ]
  },
  {
   "cell_type": "code",
   "execution_count": 10,
   "metadata": {},
   "outputs": [],
   "source": [
    "env.reset()"
   ]
  },
  {
   "cell_type": "code",
   "execution_count": 11,
   "metadata": {},
   "outputs": [
    {
     "name": "stdout",
     "output_type": "stream",
     "text": [
      "Name of the behavior : Hummingbird?team=0\n"
     ]
    }
   ],
   "source": [
    "behavior_name = list(env.behavior_specs)[0]\n",
    "print(f\"Name of the behavior : {behavior_name}\")\n",
    "spec = env.behavior_specs[behavior_name]"
   ]
  }
 ],
 "metadata": {
  "kernelspec": {
   "display_name": "Python 3",
   "language": "python",
   "name": "python3"
  },
  "language_info": {
   "codemirror_mode": {
    "name": "ipython",
    "version": 3
   },
   "file_extension": ".py",
   "mimetype": "text/x-python",
   "name": "python",
   "nbconvert_exporter": "python",
   "pygments_lexer": "ipython3",
   "version": "3.8.5"
  }
 },
 "nbformat": 4,
 "nbformat_minor": 4
}
